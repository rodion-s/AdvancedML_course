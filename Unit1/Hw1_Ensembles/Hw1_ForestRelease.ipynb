{
 "cells": [
  {
   "cell_type": "code",
   "execution_count": 1,
   "metadata": {},
   "outputs": [
    {
     "name": "stdout",
     "output_type": "stream",
     "text": [
      "Figure(800x800)\n",
      "             precision    recall  f1-score   support\n",
      "\n",
      "        0.0    0.50992   0.83473   0.63309      2033\n",
      "        1.0    0.95006   0.79671   0.86665      8023\n",
      "\n",
      "avg / total    0.86108   0.80440   0.81943     10056\n",
      "final score    0.72999   0.81572   0.74987     10056\n",
      "\n"
     ]
    }
   ],
   "source": [
    "!python rf.py -tr spam.train.txt -te spam.test.txt"
   ]
  },
  {
   "cell_type": "markdown",
   "metadata": {},
   "source": [
    "#### 2. Сравнить RF c другими известными алгоритмами классификации."
   ]
  },
  {
   "cell_type": "code",
   "execution_count": 2,
   "metadata": {},
   "outputs": [],
   "source": [
    "from sklearn.ensemble import RandomForestClassifier\n",
    "from sklearn.metrics import precision_recall_fscore_support\n",
    "import numpy as np\n",
    "import matplotlib.pyplot as pl\n",
    "\n",
    "from sklearn.neighbors import KNeighborsClassifier\n",
    "from sklearn.linear_model import RidgeClassifier\n",
    "from sklearn.linear_model import LogisticRegression\n",
    "from sklearn.svm import SVC\n",
    "from sklearn.tree import DecisionTreeClassifier\n",
    "\n",
    "from sklearn.model_selection import cross_val_score\n",
    "from sklearn.model_selection import StratifiedKFold\n",
    "\n",
    "\n",
    "args_train = 'spam.train.txt'\n",
    "args_test = 'spam.test.txt'\n",
    "train_data = np.loadtxt(args_train)\n",
    "test_data  = np.loadtxt(args_test)\n",
    "\n",
    "clfs = [RandomForestClassifier(random_state=1337), KNeighborsClassifier(), \n",
    "        RidgeClassifier(), LogisticRegression(max_iter=1000),\n",
    "        SVC(random_state=1337), DecisionTreeClassifier(random_state=1337)]"
   ]
  },
  {
   "cell_type": "code",
   "execution_count": 3,
   "metadata": {},
   "outputs": [
    {
     "data": {
      "text/plain": [
       "((7093, 102), (7093,), (10056, 102), (10056,))"
      ]
     },
     "execution_count": 3,
     "metadata": {},
     "output_type": "execute_result"
    }
   ],
   "source": [
    "train_x, train_y = train_data[0::, 1::], train_data[0::, 0]\n",
    "test_x, test_y = test_data[0::, 1::], test_data[0::, 0]\n",
    "train_x.shape, train_y.shape, test_x.shape, test_y.shape"
   ]
  },
  {
   "cell_type": "code",
   "execution_count": 4,
   "metadata": {},
   "outputs": [
    {
     "name": "stderr",
     "output_type": "stream",
     "text": [
      "100%|██████████| 6/6 [00:00<00:00, 23003.50it/s]\n",
      "100%|██████████| 6/6 [00:54<00:00,  9.04s/it]\n",
      "100%|██████████| 6/6 [00:54<00:00,  9.00s/it]\n",
      "100%|██████████| 6/6 [00:54<00:00,  9.02s/it]\n",
      "100%|██████████| 6/6 [00:54<00:00,  9.15s/it]\n",
      "100%|██████████| 6/6 [00:54<00:00,  9.08s/it]\n",
      "100%|██████████| 6/6 [00:53<00:00,  9.00s/it]\n",
      "100%|██████████| 6/6 [00:55<00:00,  9.23s/it]\n",
      "100%|██████████| 6/6 [00:56<00:00,  9.34s/it]\n",
      "100%|██████████| 6/6 [00:53<00:00,  8.96s/it]\n",
      "100%|██████████| 6/6 [00:54<00:00,  9.01s/it]\n"
     ]
    }
   ],
   "source": [
    "from tqdm import tqdm\n",
    "from sklearn.utils import shuffle\n",
    "\n",
    "scores = dict()\n",
    "for clf in tqdm(clfs):\n",
    "    scores[clf.__class__.__name__] = []\n",
    "\n",
    "shuffle_times = 10\n",
    "for _ in range(shuffle_times):\n",
    "    shuffled_train_x, shuffled_train_y = shuffle(train_x, train_y, random_state=1337)\n",
    "    for clf in tqdm(clfs):\n",
    "        current_scores = cross_val_score(clf, shuffled_train_x, \n",
    "                                         shuffled_train_y, cv=10, scoring='f1')\n",
    "        scores[clf.__class__.__name__] += [current_scores]"
   ]
  },
  {
   "cell_type": "code",
   "execution_count": 5,
   "metadata": {},
   "outputs": [
    {
     "name": "stderr",
     "output_type": "stream",
     "text": [
      "  0%|          | 0/5 [00:00<?, ?it/s]/home/rodion/miniconda3/envs/sphere-py37/lib/python3.7/site-packages/scipy/stats/morestats.py:2957: UserWarning: Exact p-value calculation does not work if there are ties. Switching to normal approximation.\n",
      "  warnings.warn(\"Exact p-value calculation does not work if there are \"\n",
      "/home/rodion/miniconda3/envs/sphere-py37/lib/python3.7/site-packages/scipy/stats/morestats.py:2971: UserWarning: Sample size too small for normal approximation.\n",
      "  warnings.warn(\"Sample size too small for normal approximation.\")\n",
      "100%|██████████| 5/5 [00:00<00:00, 284.58it/s]"
     ]
    },
    {
     "name": "stdout",
     "output_type": "stream",
     "text": [
      "H1: RandomForest score greater than KNeighborsClassifier score:\n",
      "  Median p_value in wilcoxon test RForest vs KNeighborsClassifier 0.0009765625\n",
      "    Difference statistically significant, reject H0\n",
      "H1: RandomForest score greater than RidgeClassifier score:\n",
      "  Median p_value in wilcoxon test RForest vs RidgeClassifier 0.0009765625\n",
      "    Difference statistically significant, reject H0\n",
      "H1: RandomForest score greater than LogisticRegression score:\n",
      "  Median p_value in wilcoxon test RForest vs LogisticRegression 0.0009765625\n",
      "    Difference statistically significant, reject H0\n",
      "H1: RandomForest score greater than SVC score:\n",
      "  Median p_value in wilcoxon test RForest vs SVC 0.1871296596401122\n",
      "    There is no evidence to reject H0\n",
      "H1: RandomForest score greater than DecisionTreeClassifier score:\n",
      "  Median p_value in wilcoxon test RForest vs DecisionTreeClassifier 0.0009765625\n",
      "    Difference statistically significant, reject H0\n"
     ]
    },
    {
     "name": "stderr",
     "output_type": "stream",
     "text": [
      "\n"
     ]
    }
   ],
   "source": [
    "from scipy.stats import wilcoxon\n",
    "scores_list = list(scores.items())\n",
    "\n",
    "for score_other_clf in tqdm(scores_list[1:]):\n",
    "    # since list of tuples (clf_name, [cv_scores])\n",
    "    #  scores_list[i][1][k] - scores of i-th clf on k-th shuffle\n",
    "    p_values = []\n",
    "    for k in range(shuffle_times):\n",
    "        stat_test = wilcoxon(scores_list[0][1][k], score_other_clf[1][k], alternative='greater')\n",
    "        p_values.append(stat_test.pvalue)\n",
    "    med = np.median(p_values)\n",
    "    print('H1: RandomForest score greater than', score_other_clf[0], 'score:')\n",
    "    #print(p_values)\n",
    "    print('  Median p_value in wilcoxon test RForest vs', score_other_clf[0], med)\n",
    "    if med < 0.05:\n",
    "        print('    Difference statistically significant, reject H0')\n",
    "    else:\n",
    "        print('    There is no evidence to reject H0')"
   ]
  },
  {
   "cell_type": "markdown",
   "metadata": {},
   "source": [
    "- Про различия в точности RandomForest и SVM ничего сказать нельзя\n",
    "- Различия в точности RandomForest и остальных классификаторов - определенно статистически значимы в пользу RandomForest\n"
   ]
  },
  {
   "cell_type": "code",
   "execution_count": 7,
   "metadata": {},
   "outputs": [
    {
     "data": {
      "image/png": "[encoded data removed]",
      "text/plain": [
       "<Figure size 432x288 with 1 Axes>"
      ]
     },
     "metadata": {
      "needs_background": "light"
     },
     "output_type": "display_data"
    }
   ],
   "source": [
    "import matplotlib.pyplot as plt\n",
    "%matplotlib inline\n",
    "\n",
    "\n",
    "whole_mean_scores = []\n",
    "names = ['RF', 'KNN', 'RIDGE', 'Logistic', 'SVC', 'DesictionTree']\n",
    "for estimator_idx in range(len(names)):\n",
    "    whole_mean_scores.append(np.array([scores_list[estimator_idx][1][k].mean() for k in range(shuffle_times)]).mean())\n",
    "plt.bar(names, whole_mean_scores)\n",
    "plt.ylim(0.9, 1)\n",
    "plt.show()"
   ]
  },
  {
   "cell_type": "markdown",
   "metadata": {},
   "source": [
    " #### 3. Написать функцию, подбирающую параметры числа деревьев и процента признаков в деревьях. Построить график"
   ]
  },
  {
   "cell_type": "code",
   "execution_count": 8,
   "metadata": {},
   "outputs": [],
   "source": [
    "trees_param = np.arange(10, 150, 10)\n",
    "features_percent_param = np.linspace(0, 1, 10)\n",
    "\n",
    "def find_params(x_train, x_test):\n",
    "    x_train_sh, x_test_sh = shuffle(x_train, x_test)\n",
    "    number_of_features = x_train.shape[1]\n",
    "    # fit n_estimators\n",
    "    stats = [[], []]\n",
    "    current_score = 0\n",
    "    optimal_n_estimators = 0\n",
    "    for n_trees in trees_param:\n",
    "        clf = RandomForestClassifier(n_estimators=n_trees)\n",
    "        current_score = cross_val_score(clf, x_train_sh, x_test_sh, cv=10, scoring='f1').mean()\n",
    "        stats[0].append([n_trees])\n",
    "        stats[1].append([current_score])\n",
    "        print('n_estimators: {}, score: {}'.format(n_trees, current_score))\n",
    "        prev_score = current_score\n",
    "    optimal_n_estimators = trees_param[np.argmax(stats[1])]\n",
    "    plt.figure(figsize=(10,8))\n",
    "    plt.subplot(1,2,1)\n",
    "    plt.xlabel('n_estimators')\n",
    "    plt.ylabel('cross_val_score')\n",
    "    plt.plot(stats[0], stats[1])\n",
    "\n",
    "    current_score = max_score = 0\n",
    "    stats = [[], []]\n",
    "    for percent in features_percent_param[1:]:\n",
    "        use_features_in_tree = (int)(percent * number_of_features)\n",
    "        clf = RandomForestClassifier(n_estimators=optimal_n_estimators,\n",
    "                                     max_features=use_features_in_tree)\n",
    "        current_score = cross_val_score(clf, x_train_sh, x_test_sh, cv=10).mean()\n",
    "        print('use_features_in_tree (num): {}, score: {}'.format(use_features_in_tree, current_score))\n",
    "        stats[0].append([percent])\n",
    "        stats[1].append([current_score])\n",
    "        if current_score > max_score:\n",
    "            max_score = current_score\n",
    "            optimal_feature_percent = percent\n",
    "    plt.subplot(1,2,2)\n",
    "    plt.xlabel('feature_percent')\n",
    "    plt.ylabel('cross_val_score')\n",
    "    plt.plot(stats[0], stats[1])\n",
    "    plt.show()\n",
    "    return optimal_n_estimators, optimal_feature_percent"
   ]
  },
  {
   "cell_type": "code",
   "execution_count": 9,
   "metadata": {},
   "outputs": [
    {
     "name": "stdout",
     "output_type": "stream",
     "text": [
      "n_estimators: 10, score: 0.9716938582465244\n",
      "n_estimators: 20, score: 0.9750521137466708\n",
      "n_estimators: 30, score: 0.9762203307839149\n",
      "n_estimators: 40, score: 0.9766975622582652\n",
      "n_estimators: 50, score: 0.9796057185863074\n",
      "n_estimators: 60, score: 0.9781506016448566\n",
      "n_estimators: 70, score: 0.9786399668384209\n",
      "n_estimators: 80, score: 0.979021155845496\n",
      "n_estimators: 90, score: 0.979035561890587\n",
      "n_estimators: 100, score: 0.9781515616905676\n",
      "n_estimators: 110, score: 0.9789143106411167\n",
      "n_estimators: 120, score: 0.9786416052568077\n",
      "n_estimators: 130, score: 0.9784078147771652\n",
      "n_estimators: 140, score: 0.9797381494853263\n",
      "use_features_in_tree (num): 11, score: 0.9770200043703688\n",
      "use_features_in_tree (num): 22, score: 0.976596078587179\n",
      "use_features_in_tree (num): 34, score: 0.9754693180237985\n",
      "use_features_in_tree (num): 45, score: 0.9756099644410895\n",
      "use_features_in_tree (num): 56, score: 0.9736357496175927\n",
      "use_features_in_tree (num): 68, score: 0.9722263056477086\n",
      "use_features_in_tree (num): 79, score: 0.9702532827430026\n",
      "use_features_in_tree (num): 90, score: 0.9679961858598702\n",
      "use_features_in_tree (num): 102, score: 0.9651772979201017\n"
     ]
    },
    {
     "data": {
      "image/png": "[encoded data removed]",
      "text/plain": [
       "<Figure size 720x576 with 2 Axes>"
      ]
     },
     "metadata": {
      "needs_background": "light"
     },
     "output_type": "display_data"
    }
   ],
   "source": [
    "optimal_n_estimators, optimal_feature_percent = find_params(train_x, train_y)"
   ]
  },
  {
   "cell_type": "markdown",
   "metadata": {},
   "source": [
    "#### 4. Почему качество классификации для класса spam выше, чем для класса notspam?\n",
    "- Классы несбалансированы: примеров спама больше, чем неспама, что может повлиять на f1 меру для класса, представленного в меньшинстве."
   ]
  },
  {
   "cell_type": "code",
   "execution_count": 10,
   "metadata": {},
   "outputs": [
    {
     "data": {
      "text/plain": [
       "((array([0., 1.]), array([2970, 4123])),\n",
       " (array([0., 1.]), array([2033, 8023])))"
      ]
     },
     "execution_count": 10,
     "metadata": {},
     "output_type": "execute_result"
    }
   ],
   "source": [
    "np.unique(train_y, return_counts=True), np.unique(test_y, return_counts=True)"
   ]
  },
  {
   "cell_type": "code",
   "execution_count": 11,
   "metadata": {},
   "outputs": [
    {
     "data": {
      "text/plain": [
       "(0.1111111111111111, 140)"
      ]
     },
     "execution_count": 11,
     "metadata": {},
     "output_type": "execute_result"
    }
   ],
   "source": [
    "optimal_feature_percent, optimal_n_estimators"
   ]
  },
  {
   "cell_type": "code",
   "execution_count": 13,
   "metadata": {},
   "outputs": [
    {
     "name": "stdout",
     "output_type": "stream",
     "text": [
      "             precision    recall  f1-score   support\n",
      "\n",
      "        0.0    0.80721   0.94737   0.87169      2033\n",
      "        1.0    0.98605   0.94266   0.96387      8023\n",
      "\n",
      "avg / total    0.94989   0.94362   0.94523     10056\n",
      "final score    0.89663   0.94502   0.91778     10056\n",
      "\n"
     ]
    }
   ],
   "source": [
    "from rf import classification_report\n",
    "optimal_feature_percent = 0.1111\n",
    "optimal_n_estimators = 140\n",
    "number_of_features = train_x.shape[1]\n",
    "\n",
    "\n",
    "from sklearn.metrics import f1_score\n",
    "use_features_in_tree = (int)(optimal_feature_percent * number_of_features)\n",
    "clf = RandomForestClassifier(n_estimators=optimal_n_estimators, max_features=use_features_in_tree)\n",
    "clf.fit(train_x, train_y)\n",
    "print(classification_report(test_y, clf.predict(test_x)))"
   ]
  }
 ],
 "metadata": {
  "kernelspec": {
   "display_name": "Python 3",
   "language": "python",
   "name": "python3"
  },
  "language_info": {
   "codemirror_mode": {
    "name": "ipython",
    "version": 3
   },
   "file_extension": ".py",
   "mimetype": "text/x-python",
   "name": "python",
   "nbconvert_exporter": "python",
   "pygments_lexer": "ipython3",
   "version": "3.7.7"
  }
 },
 "nbformat": 4,
 "nbformat_minor": 4
}
