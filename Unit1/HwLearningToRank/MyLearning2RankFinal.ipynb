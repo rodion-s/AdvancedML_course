{
  "nbformat": 4,
  "nbformat_minor": 0,
  "metadata": {
    "kernelspec": {
      "display_name": "Python 3",
      "language": "python",
      "name": "python3"
    },
    "language_info": {
      "codemirror_mode": {
        "name": "ipython",
        "version": 3
      },
      "file_extension": ".py",
      "mimetype": "text/x-python",
      "name": "python",
      "nbconvert_exporter": "python",
      "pygments_lexer": "ipython3",
      "version": "3.7.6"
    },
    "colab": {
      "name": "MyLearning2RankFinal",
      "provenance": [],
      "toc_visible": true
    },
    "accelerator": "GPU"
  },
  "cells": [
    {
      "cell_type": "code",
      "metadata": {
        "id": "qrKbrp9iNWdG"
      },
      "source": [
        "!unzip '/learning-to-rank-fall-2020.zip'"
      ],
      "execution_count": null,
      "outputs": []
    },
    {
      "cell_type": "code",
      "metadata": {
        "id": "27b5TuEgCarX"
      },
      "source": [
        "import numpy as np\n",
        "from sklearn.datasets import load_svmlight_file\n",
        "X, y, query_ids = load_svmlight_file('l2r/train.txt', query_id=True)"
      ],
      "execution_count": 3,
      "outputs": []
    },
    {
      "cell_type": "code",
      "metadata": {
        "id": "DHU0e31mBfTj"
      },
      "source": [
        "def IDCG(y_true):\n",
        "    sorted_y = np.sort(y_true)[::-1]\n",
        "    gain = (2 ** sorted_y - 1)\n",
        "    discount = 1.0 / np.log(np.arange(1, sorted_y.shape[0] + 1) + 1)\n",
        "    idcg = np.sum(gain * discount)\n",
        "    if np.isclose(idcg, 0.0):\n",
        "        idcg = 1\n",
        "    return idcg"
      ],
      "execution_count": 10,
      "outputs": []
    },
    {
      "cell_type": "code",
      "metadata": {
        "id": "9GRVE7INCarr"
      },
      "source": [
        "from collections import defaultdict\n",
        "train_query_groups = defaultdict(list)\n",
        "for doc_id, query_id in enumerate(query_ids):\n",
        "    train_query_groups[query_id].append(doc_id)\n",
        "    \n",
        "idcg_for_query = dict()\n",
        "query_order_indicator = dict()\n",
        "for query_id in train_query_groups:\n",
        "    idcg_for_query[query_id] = IDCG(y[train_query_groups[query_id]])\n",
        "    \n",
        "    docs_ids = train_query_groups[query_id]\n",
        "    y_i = y[docs_ids]\n",
        "    order_indicator = np.zeros((y_i.shape[0], y_i.shape[0]))\n",
        "    order_indicator += (y_i.reshape(-1, 1) > y_i)\n",
        "    order_indicator -= (y_i.reshape(-1, 1) < y_i)\n",
        "    query_order_indicator[query_id] = order_indicator"
      ],
      "execution_count": 11,
      "outputs": []
    },
    {
      "cell_type": "code",
      "metadata": {
        "id": "LDzrrC7MCarx"
      },
      "source": [
        "progress = 0\n",
        "def objective(y_true, y_pred):\n",
        "    global progress\n",
        "    progress += 1\n",
        "    print(f\"\\r{progress} ...\", end='', flush=True)\n",
        "    grad = np.zeros(y_true.shape[0])\n",
        "    hess = np.zeros(y_true.shape[0])\n",
        "    \n",
        "    for query_id in train_query_groups:\n",
        "        docs_ids = np.array(train_query_groups[query_id])\n",
        "        h_i = y_pred[docs_ids]\n",
        "        y_i = y_true[docs_ids]\n",
        "\n",
        "        h_ij = h_i.reshape(-1, 1) - h_i\n",
        "        h_ij[h_ij > 50] = 50\n",
        "        h_ij[h_ij < -50] = -50\n",
        "\n",
        "        order_indicator = query_order_indicator[query_id]\n",
        "        h_ij = h_ij * order_indicator\n",
        "        sigm = 1.0 / (1 + np.exp(h_ij))\n",
        "\n",
        "        idcg = idcg_for_query[query_id]\n",
        "        gain_diff = 2 ** y_i.reshape(-1, 1) - 2 ** y_i\n",
        "        sorted_ids = np.argsort(h_i)[::-1]\n",
        "        discount_diff = ( 1.0 / np.log(sorted_ids.reshape(-1, 1) + 2) - 1.0 / np.log(sorted_ids + 2) ) / np.log(2)\n",
        "        delta_ndcg = np.abs(gain_diff * discount_diff) / idcg\n",
        "\n",
        "        lambda_ij = delta_ndcg * sigm\n",
        "        ## mask = order_indicator[order_indicator == 1]\n",
        "        ## grad[docs_ids] = -np.sum(lambda_ij[mask] - lamdbda_ij[mask].T(), axis=1)\n",
        "        grad[docs_ids] = -np.sum(order_indicator * lambda_ij, axis=1)\n",
        "        hess[docs_ids] = np.sum(delta_ndcg * sigm * (1 - sigm), axis=1)\n",
        "    \n",
        "    hess[np.isclose(hess, 0.0)] = 1.0\n",
        "    return grad, hess"
      ],
      "execution_count": 12,
      "outputs": []
    },
    {
      "cell_type": "code",
      "metadata": {
        "id": "sGUPWOaCKWf8"
      },
      "source": [
        "from xgboost import XGBRegressor"
      ],
      "execution_count": 13,
      "outputs": []
    },
    {
      "cell_type": "code",
      "metadata": {
        "id": "fPGfFNvgyVhk",
        "outputId": "45ac6a58-c2ff-4faa-db11-8ec880ddb17e",
        "colab": {
          "base_uri": "https://localhost:8080/"
        }
      },
      "source": [
        "%%time\n",
        "params = {'objective': objective, 'max_depth': 7, 'n_estimators': 2000, 'n_jobs': 2}\n",
        "model = XGBRegressor(tree_method='gpu_hist', **params)\n",
        "model.fit(X, y)"
      ],
      "execution_count": 14,
      "outputs": [
        {
          "output_type": "stream",
          "text": [
            "[12:18:49] WARNING: /workspace/src/objective/regression_obj.cu:152: reg:linear is now deprecated in favor of reg:squarederror.\n",
            "2000 ...CPU times: user 1h 4min 59s, sys: 1min 45s, total: 1h 6min 45s\n",
            "Wall time: 1h 6min 42s\n"
          ],
          "name": "stdout"
        }
      ]
    },
    {
      "cell_type": "code",
      "metadata": {
        "id": "PAu8MeUid5aK"
      },
      "source": [
        "model.save_model('xgb_n2000_depth7')"
      ],
      "execution_count": 15,
      "outputs": []
    },
    {
      "cell_type": "code",
      "metadata": {
        "id": "dRPhURcubLja"
      },
      "source": [
        "from xgboost import train\n",
        "new_params = params\n",
        "new_params['n_estimators'] = 13000\n",
        "new_params['tree_method'] = 'gpu_hist'"
      ],
      "execution_count": 16,
      "outputs": []
    },
    {
      "cell_type": "code",
      "metadata": {
        "id": "lcuzPXwdbejw"
      },
      "source": [
        "import xgboost\n",
        "xgbtrain = xgboost.DMatrix(X, y)\n",
        "X_test, y_test, query_ids_test = load_svmlight_file('l2r/test.txt', query_id=True)\n",
        "xb_X_test = xgboost.DMatrix(X_test)"
      ],
      "execution_count": 17,
      "outputs": []
    },
    {
      "cell_type": "code",
      "metadata": {
        "id": "1vJF4yTfbjpV",
        "outputId": "d5f31179-c787-4a46-9af8-4716f3e3e4f2",
        "colab": {
          "base_uri": "https://localhost:8080/"
        }
      },
      "source": [
        "tuned_mdl = train(new_params, dtrain=xgbtrain, xgb_model='xgb_n2000_depth7', verbose_eval=True)"
      ],
      "execution_count": 18,
      "outputs": [
        {
          "output_type": "stream",
          "text": [
            "[13:26:04] WARNING: /workspace/src/objective/regression_obj.cu:152: reg:linear is now deprecated in favor of reg:squarederror.\n"
          ],
          "name": "stdout"
        }
      ]
    },
    {
      "cell_type": "code",
      "metadata": {
        "id": "h0_ao6hbb6Ty"
      },
      "source": [
        "y_pred = tuned_mdl.predict(xb_X_test)\n",
        "test_query_groups = defaultdict(list)\n",
        "for doc_id, query_id in enumerate(query_ids_test):\n",
        "    test_query_groups[query_id].append(doc_id)\n",
        "with open(\"my_subm_final.csv\", 'w') as outp:\n",
        "    print(\"QueryId,DocumentId\", file=outp)\n",
        "    for query_id in test_query_groups:\n",
        "        docs_ids = test_query_groups[query_id]\n",
        "        y_pred_for_query = y_pred[docs_ids]\n",
        "        sorted_ids = np.argsort(y_pred_for_query)[::-1]\n",
        "        ranked_docs = np.array(docs_ids)[sorted_ids]\n",
        "        for doc_id in ranked_docs:\n",
        "            print(f\"{query_id},{doc_id+1}\", file=outp)"
      ],
      "execution_count": 19,
      "outputs": []
    },
    {
      "cell_type": "code",
      "metadata": {
        "id": "HjYnY_FpcOSz"
      },
      "source": [
        ""
      ],
      "execution_count": null,
      "outputs": []
    }
  ]
}