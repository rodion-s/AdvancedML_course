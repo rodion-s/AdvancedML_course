{
  "nbformat": 4,
  "nbformat_minor": 0,
  "metadata": {
    "colab": {
      "name": "HwInfoCTR.ipynb\"",
      "provenance": [],
      "collapsed_sections": [],
      "toc_visible": true
    },
    "kernelspec": {
      "name": "python3",
      "display_name": "Python 3"
    },
    "widgets": {
      "application/vnd.jupyter.widget-state+json": {
        "e616c3e5fbbc44b085d37a3f22aff19c": {
          "model_module": "@jupyter-widgets/controls",
          "model_name": "HBoxModel",
          "state": {
            "_view_name": "HBoxView",
            "_dom_classes": [],
            "_model_name": "HBoxModel",
            "_view_module": "@jupyter-widgets/controls",
            "_model_module_version": "1.5.0",
            "_view_count": null,
            "_view_module_version": "1.5.0",
            "box_style": "",
            "layout": "IPY_MODEL_30573b1399a04cac949e5ac06adb115a",
            "_model_module": "@jupyter-widgets/controls",
            "children": [
              "IPY_MODEL_174f1e95018642138f7a9c69218e4504",
              "IPY_MODEL_3d2cde624e3c46dea496ec5b6679c3ad"
            ]
          }
        },
        "30573b1399a04cac949e5ac06adb115a": {
          "model_module": "@jupyter-widgets/base",
          "model_name": "LayoutModel",
          "state": {
            "_view_name": "LayoutView",
            "grid_template_rows": null,
            "right": null,
            "justify_content": null,
            "_view_module": "@jupyter-widgets/base",
            "overflow": null,
            "_model_module_version": "1.2.0",
            "_view_count": null,
            "flex_flow": null,
            "width": null,
            "min_width": null,
            "border": null,
            "align_items": null,
            "bottom": null,
            "_model_module": "@jupyter-widgets/base",
            "top": null,
            "grid_column": null,
            "overflow_y": null,
            "overflow_x": null,
            "grid_auto_flow": null,
            "grid_area": null,
            "grid_template_columns": null,
            "flex": null,
            "_model_name": "LayoutModel",
            "justify_items": null,
            "grid_row": null,
            "max_height": null,
            "align_content": null,
            "visibility": null,
            "align_self": null,
            "height": null,
            "min_height": null,
            "padding": null,
            "grid_auto_rows": null,
            "grid_gap": null,
            "max_width": null,
            "order": null,
            "_view_module_version": "1.2.0",
            "grid_template_areas": null,
            "object_position": null,
            "object_fit": null,
            "grid_auto_columns": null,
            "margin": null,
            "display": null,
            "left": null
          }
        },
        "174f1e95018642138f7a9c69218e4504": {
          "model_module": "@jupyter-widgets/controls",
          "model_name": "FloatProgressModel",
          "state": {
            "_view_name": "ProgressView",
            "style": "IPY_MODEL_586aaba75874495aa9c7c7a8204a6210",
            "_dom_classes": [],
            "description": "100%",
            "_model_name": "FloatProgressModel",
            "bar_style": "success",
            "max": 500,
            "_view_module": "@jupyter-widgets/controls",
            "_model_module_version": "1.5.0",
            "value": 500,
            "_view_count": null,
            "_view_module_version": "1.5.0",
            "orientation": "horizontal",
            "min": 0,
            "description_tooltip": null,
            "_model_module": "@jupyter-widgets/controls",
            "layout": "IPY_MODEL_d84754de8bfa43fbaddde7eb0d22213a"
          }
        },
        "3d2cde624e3c46dea496ec5b6679c3ad": {
          "model_module": "@jupyter-widgets/controls",
          "model_name": "HTMLModel",
          "state": {
            "_view_name": "HTMLView",
            "style": "IPY_MODEL_b9a2430572744aa8af36a986993ade60",
            "_dom_classes": [],
            "description": "",
            "_model_name": "HTMLModel",
            "placeholder": "​",
            "_view_module": "@jupyter-widgets/controls",
            "_model_module_version": "1.5.0",
            "value": " 500/500 [02:29&lt;00:00,  3.36it/s]",
            "_view_count": null,
            "_view_module_version": "1.5.0",
            "description_tooltip": null,
            "_model_module": "@jupyter-widgets/controls",
            "layout": "IPY_MODEL_147e1f45adfc43a68fd86ce981c62978"
          }
        },
        "586aaba75874495aa9c7c7a8204a6210": {
          "model_module": "@jupyter-widgets/controls",
          "model_name": "ProgressStyleModel",
          "state": {
            "_view_name": "StyleView",
            "_model_name": "ProgressStyleModel",
            "description_width": "initial",
            "_view_module": "@jupyter-widgets/base",
            "_model_module_version": "1.5.0",
            "_view_count": null,
            "_view_module_version": "1.2.0",
            "bar_color": null,
            "_model_module": "@jupyter-widgets/controls"
          }
        },
        "d84754de8bfa43fbaddde7eb0d22213a": {
          "model_module": "@jupyter-widgets/base",
          "model_name": "LayoutModel",
          "state": {
            "_view_name": "LayoutView",
            "grid_template_rows": null,
            "right": null,
            "justify_content": null,
            "_view_module": "@jupyter-widgets/base",
            "overflow": null,
            "_model_module_version": "1.2.0",
            "_view_count": null,
            "flex_flow": null,
            "width": null,
            "min_width": null,
            "border": null,
            "align_items": null,
            "bottom": null,
            "_model_module": "@jupyter-widgets/base",
            "top": null,
            "grid_column": null,
            "overflow_y": null,
            "overflow_x": null,
            "grid_auto_flow": null,
            "grid_area": null,
            "grid_template_columns": null,
            "flex": null,
            "_model_name": "LayoutModel",
            "justify_items": null,
            "grid_row": null,
            "max_height": null,
            "align_content": null,
            "visibility": null,
            "align_self": null,
            "height": null,
            "min_height": null,
            "padding": null,
            "grid_auto_rows": null,
            "grid_gap": null,
            "max_width": null,
            "order": null,
            "_view_module_version": "1.2.0",
            "grid_template_areas": null,
            "object_position": null,
            "object_fit": null,
            "grid_auto_columns": null,
            "margin": null,
            "display": null,
            "left": null
          }
        },
        "b9a2430572744aa8af36a986993ade60": {
          "model_module": "@jupyter-widgets/controls",
          "model_name": "DescriptionStyleModel",
          "state": {
            "_view_name": "StyleView",
            "_model_name": "DescriptionStyleModel",
            "description_width": "",
            "_view_module": "@jupyter-widgets/base",
            "_model_module_version": "1.5.0",
            "_view_count": null,
            "_view_module_version": "1.2.0",
            "_model_module": "@jupyter-widgets/controls"
          }
        },
        "147e1f45adfc43a68fd86ce981c62978": {
          "model_module": "@jupyter-widgets/base",
          "model_name": "LayoutModel",
          "state": {
            "_view_name": "LayoutView",
            "grid_template_rows": null,
            "right": null,
            "justify_content": null,
            "_view_module": "@jupyter-widgets/base",
            "overflow": null,
            "_model_module_version": "1.2.0",
            "_view_count": null,
            "flex_flow": null,
            "width": null,
            "min_width": null,
            "border": null,
            "align_items": null,
            "bottom": null,
            "_model_module": "@jupyter-widgets/base",
            "top": null,
            "grid_column": null,
            "overflow_y": null,
            "overflow_x": null,
            "grid_auto_flow": null,
            "grid_area": null,
            "grid_template_columns": null,
            "flex": null,
            "_model_name": "LayoutModel",
            "justify_items": null,
            "grid_row": null,
            "max_height": null,
            "align_content": null,
            "visibility": null,
            "align_self": null,
            "height": null,
            "min_height": null,
            "padding": null,
            "grid_auto_rows": null,
            "grid_gap": null,
            "max_width": null,
            "order": null,
            "_view_module_version": "1.2.0",
            "grid_template_areas": null,
            "object_position": null,
            "object_fit": null,
            "grid_auto_columns": null,
            "margin": null,
            "display": null,
            "left": null
          }
        },
        "3cd39850d57741c1a82dfae4af939270": {
          "model_module": "@jupyter-widgets/controls",
          "model_name": "HBoxModel",
          "state": {
            "_view_name": "HBoxView",
            "_dom_classes": [],
            "_model_name": "HBoxModel",
            "_view_module": "@jupyter-widgets/controls",
            "_model_module_version": "1.5.0",
            "_view_count": null,
            "_view_module_version": "1.5.0",
            "box_style": "",
            "layout": "IPY_MODEL_aa73c24d92344f49a57a1174f8a8c248",
            "_model_module": "@jupyter-widgets/controls",
            "children": [
              "IPY_MODEL_5c22bcfe65fe4f89ab5d0241911357b0",
              "IPY_MODEL_6b575b391e9d48ed88d21937e96ba313"
            ]
          }
        },
        "aa73c24d92344f49a57a1174f8a8c248": {
          "model_module": "@jupyter-widgets/base",
          "model_name": "LayoutModel",
          "state": {
            "_view_name": "LayoutView",
            "grid_template_rows": null,
            "right": null,
            "justify_content": null,
            "_view_module": "@jupyter-widgets/base",
            "overflow": null,
            "_model_module_version": "1.2.0",
            "_view_count": null,
            "flex_flow": null,
            "width": null,
            "min_width": null,
            "border": null,
            "align_items": null,
            "bottom": null,
            "_model_module": "@jupyter-widgets/base",
            "top": null,
            "grid_column": null,
            "overflow_y": null,
            "overflow_x": null,
            "grid_auto_flow": null,
            "grid_area": null,
            "grid_template_columns": null,
            "flex": null,
            "_model_name": "LayoutModel",
            "justify_items": null,
            "grid_row": null,
            "max_height": null,
            "align_content": null,
            "visibility": null,
            "align_self": null,
            "height": null,
            "min_height": null,
            "padding": null,
            "grid_auto_rows": null,
            "grid_gap": null,
            "max_width": null,
            "order": null,
            "_view_module_version": "1.2.0",
            "grid_template_areas": null,
            "object_position": null,
            "object_fit": null,
            "grid_auto_columns": null,
            "margin": null,
            "display": null,
            "left": null
          }
        },
        "5c22bcfe65fe4f89ab5d0241911357b0": {
          "model_module": "@jupyter-widgets/controls",
          "model_name": "FloatProgressModel",
          "state": {
            "_view_name": "ProgressView",
            "style": "IPY_MODEL_d254fc67107243d3be581e9b06589289",
            "_dom_classes": [],
            "description": "100%",
            "_model_name": "FloatProgressModel",
            "bar_style": "success",
            "max": 500,
            "_view_module": "@jupyter-widgets/controls",
            "_model_module_version": "1.5.0",
            "value": 500,
            "_view_count": null,
            "_view_module_version": "1.5.0",
            "orientation": "horizontal",
            "min": 0,
            "description_tooltip": null,
            "_model_module": "@jupyter-widgets/controls",
            "layout": "IPY_MODEL_2502e3fc329e4cfba63588b28dc177d3"
          }
        },
        "6b575b391e9d48ed88d21937e96ba313": {
          "model_module": "@jupyter-widgets/controls",
          "model_name": "HTMLModel",
          "state": {
            "_view_name": "HTMLView",
            "style": "IPY_MODEL_c1941a5d599a4884bcce2e5d779d4c4c",
            "_dom_classes": [],
            "description": "",
            "_model_name": "HTMLModel",
            "placeholder": "​",
            "_view_module": "@jupyter-widgets/controls",
            "_model_module_version": "1.5.0",
            "value": " 500/500 [02:27&lt;00:00,  3.38it/s]",
            "_view_count": null,
            "_view_module_version": "1.5.0",
            "description_tooltip": null,
            "_model_module": "@jupyter-widgets/controls",
            "layout": "IPY_MODEL_458c71d6c52e459cb39fe3d7320ff6e3"
          }
        },
        "d254fc67107243d3be581e9b06589289": {
          "model_module": "@jupyter-widgets/controls",
          "model_name": "ProgressStyleModel",
          "state": {
            "_view_name": "StyleView",
            "_model_name": "ProgressStyleModel",
            "description_width": "initial",
            "_view_module": "@jupyter-widgets/base",
            "_model_module_version": "1.5.0",
            "_view_count": null,
            "_view_module_version": "1.2.0",
            "bar_color": null,
            "_model_module": "@jupyter-widgets/controls"
          }
        },
        "2502e3fc329e4cfba63588b28dc177d3": {
          "model_module": "@jupyter-widgets/base",
          "model_name": "LayoutModel",
          "state": {
            "_view_name": "LayoutView",
            "grid_template_rows": null,
            "right": null,
            "justify_content": null,
            "_view_module": "@jupyter-widgets/base",
            "overflow": null,
            "_model_module_version": "1.2.0",
            "_view_count": null,
            "flex_flow": null,
            "width": null,
            "min_width": null,
            "border": null,
            "align_items": null,
            "bottom": null,
            "_model_module": "@jupyter-widgets/base",
            "top": null,
            "grid_column": null,
            "overflow_y": null,
            "overflow_x": null,
            "grid_auto_flow": null,
            "grid_area": null,
            "grid_template_columns": null,
            "flex": null,
            "_model_name": "LayoutModel",
            "justify_items": null,
            "grid_row": null,
            "max_height": null,
            "align_content": null,
            "visibility": null,
            "align_self": null,
            "height": null,
            "min_height": null,
            "padding": null,
            "grid_auto_rows": null,
            "grid_gap": null,
            "max_width": null,
            "order": null,
            "_view_module_version": "1.2.0",
            "grid_template_areas": null,
            "object_position": null,
            "object_fit": null,
            "grid_auto_columns": null,
            "margin": null,
            "display": null,
            "left": null
          }
        },
        "c1941a5d599a4884bcce2e5d779d4c4c": {
          "model_module": "@jupyter-widgets/controls",
          "model_name": "DescriptionStyleModel",
          "state": {
            "_view_name": "StyleView",
            "_model_name": "DescriptionStyleModel",
            "description_width": "",
            "_view_module": "@jupyter-widgets/base",
            "_model_module_version": "1.5.0",
            "_view_count": null,
            "_view_module_version": "1.2.0",
            "_model_module": "@jupyter-widgets/controls"
          }
        },
        "458c71d6c52e459cb39fe3d7320ff6e3": {
          "model_module": "@jupyter-widgets/base",
          "model_name": "LayoutModel",
          "state": {
            "_view_name": "LayoutView",
            "grid_template_rows": null,
            "right": null,
            "justify_content": null,
            "_view_module": "@jupyter-widgets/base",
            "overflow": null,
            "_model_module_version": "1.2.0",
            "_view_count": null,
            "flex_flow": null,
            "width": null,
            "min_width": null,
            "border": null,
            "align_items": null,
            "bottom": null,
            "_model_module": "@jupyter-widgets/base",
            "top": null,
            "grid_column": null,
            "overflow_y": null,
            "overflow_x": null,
            "grid_auto_flow": null,
            "grid_area": null,
            "grid_template_columns": null,
            "flex": null,
            "_model_name": "LayoutModel",
            "justify_items": null,
            "grid_row": null,
            "max_height": null,
            "align_content": null,
            "visibility": null,
            "align_self": null,
            "height": null,
            "min_height": null,
            "padding": null,
            "grid_auto_rows": null,
            "grid_gap": null,
            "max_width": null,
            "order": null,
            "_view_module_version": "1.2.0",
            "grid_template_areas": null,
            "object_position": null,
            "object_fit": null,
            "grid_auto_columns": null,
            "margin": null,
            "display": null,
            "left": null
          }
        }
      }
    }
  },
  "cells": [
    {
      "cell_type": "code",
      "metadata": {
        "id": "fnmVhiQwmK8G"
      },
      "source": [
        "import numpy as np"
      ],
      "execution_count": 2,
      "outputs": []
    },
    {
      "cell_type": "code",
      "metadata": {
        "id": "GjuX8fN7mYbS"
      },
      "source": [
        "c1 = np.loadtxt(\"c1.txt\")\n",
        "c2 = np.loadtxt(\"c2.txt\")"
      ],
      "execution_count": 3,
      "outputs": []
    },
    {
      "cell_type": "code",
      "metadata": {
        "id": "fGN8u1iFEiVD"
      },
      "source": [
        "from numpy.random import shuffle\n",
        "from scipy import stats\n",
        "from tqdm.notebook import tqdm\n",
        "import matplotlib.pyplot as plt\n",
        "\n",
        "def bootstrap(split1, split2, metric, n_groups, n_iter, label1, label2):\n",
        "    split_stats = []\n",
        "    reject_H0_counter = 0\n",
        "    for _ in tqdm(range(n_iter)):\n",
        "        indices1 = np.random.choice(len(split1), len(split1), replace=True)\n",
        "        indices2 = np.random.choice(len(split2), len(split2), replace=True)\n",
        "        \n",
        "        shuffled_split1 = split1[indices1, :]\n",
        "        shuffled_split2 = split2[indices2, :]\n",
        "\n",
        "        groups_split1 = np.split(shuffled_split1, n_groups)\n",
        "        groups_split2 = np.split(shuffled_split2, n_groups)\n",
        "             \n",
        "        metric_result_split1 = metric(groups_split1)\n",
        "        metric_result_split2 = metric(groups_split2)\n",
        "\n",
        "        split_stats.append((np.mean(metric_result_split1), np.mean(metric_result_split2)))\n",
        "        \n",
        "        t, p_val = stats.ttest_ind(metric_result_split1, metric_result_split2, equal_var=False)\n",
        "        if t > 1.96:\n",
        "            reject_H0_counter += 1\n",
        "    ACL = reject_H0_counter / n_iter\n",
        "    split_stats = np.array(split_stats)\n",
        "\n",
        "    plt.plot(split_stats[:, 0], label=label1)\n",
        "    plt.plot(split_stats[:, 1], label=label2)\n",
        "    plt.xlabel('bootrtrap iterations')\n",
        "    plt.ylabel('metric value')\n",
        "    plt.legend()\n",
        "    plt.show()\n",
        "    return ACL, split_stats"
      ],
      "execution_count": 4,
      "outputs": []
    },
    {
      "cell_type": "markdown",
      "metadata": {
        "id": "7Oh0Xy5KkLVY"
      },
      "source": [
        "#### Проверим для метрики CTR следующие гипотезы:"
      ]
    },
    {
      "cell_type": "markdown",
      "metadata": {
        "id": "rFrBAQtGaFFV"
      },
      "source": [
        "- **H0**: различия в сплитах обусловлены случайностью\n",
        "\n",
        "- **H1**: иначе"
      ]
    },
    {
      "cell_type": "code",
      "metadata": {
        "id": "F0Vzqc3dIyCS"
      },
      "source": [
        "def ctr_metric(groups):\n",
        "    all_groups_res = []\n",
        "    session_size = len(groups[0])\n",
        "    for i in range(len(groups)):\n",
        "        noclicks_session_count = np.sum(~groups[i].any(axis=1))\n",
        "        one_group_res = (session_size - noclicks_session_count) / session_size\n",
        "        all_groups_res.append(one_group_res)\n",
        "    return all_groups_res"
      ],
      "execution_count": 5,
      "outputs": []
    },
    {
      "cell_type": "code",
      "metadata": {
        "id": "IbElg9ceInlC",
        "outputId": "e8e850ac-aa73-412b-a374-eacaba17b526",
        "colab": {
          "base_uri": "https://localhost:8080/",
          "height": 347,
          "referenced_widgets": [
            "e616c3e5fbbc44b085d37a3f22aff19c",
            "30573b1399a04cac949e5ac06adb115a",
            "174f1e95018642138f7a9c69218e4504",
            "3d2cde624e3c46dea496ec5b6679c3ad",
            "586aaba75874495aa9c7c7a8204a6210",
            "d84754de8bfa43fbaddde7eb0d22213a",
            "b9a2430572744aa8af36a986993ade60",
            "147e1f45adfc43a68fd86ce981c62978"
          ]
        }
      },
      "source": [
        "ACL_ctr, ctr_split_stats = bootstrap(c1, c2, ctr_metric, n_groups=1000, n_iter=500,\n",
        "                                     label1='c1', label2='c2')\n",
        "ACL_ctr"
      ],
      "execution_count": 6,
      "outputs": [
        {
          "output_type": "display_data",
          "data": {
            "application/vnd.jupyter.widget-view+json": {
              "model_id": "e616c3e5fbbc44b085d37a3f22aff19c",
              "version_minor": 0,
              "version_major": 2
            },
            "text/plain": [
              "HBox(children=(FloatProgress(value=0.0, max=500.0), HTML(value='')))"
            ]
          },
          "metadata": {
            "tags": []
          }
        },
        {
          "output_type": "stream",
          "text": [
            "\n"
          ],
          "name": "stdout"
        },
        {
          "output_type": "display_data",
          "data": {
            "image/png": "[encoded data removed]",
            "text/plain": [
              "<Figure size 432x288 with 1 Axes>"
            ]
          },
          "metadata": {
            "tags": [],
            "needs_background": "light"
          }
        },
        {
          "output_type": "execute_result",
          "data": {
            "text/plain": [
              "1.0"
            ]
          },
          "metadata": {
            "tags": []
          },
          "execution_count": 6
        }
      ]
    },
    {
      "cell_type": "markdown",
      "metadata": {
        "id": "PiZKOMjSa0OA"
      },
      "source": [
        "- Нулевая гипотеза отвергнута с уровнем значимости 0.05 на всех итерациях bootstrap. Т.е. различия в сплитах статистически значимы\n",
        "- График иллюстрирует, что на первом сплите метрика больше, т.е. он \"лучше\""
      ]
    },
    {
      "cell_type": "markdown",
      "metadata": {
        "id": "-uFLGh-RcTD0"
      },
      "source": [
        ""
      ]
    },
    {
      "cell_type": "markdown",
      "metadata": {
        "id": "3gVMjxPOdKzr"
      },
      "source": [
        "#### Теперь проверим аналогичные гипотезы для метрики \"количество отказов (доля сессий без кликов)\":"
      ]
    },
    {
      "cell_type": "code",
      "metadata": {
        "id": "8w0QJPGWZGD9"
      },
      "source": [
        "def abandonment_rate_metric(groups):\n",
        "    all_groups_res = []\n",
        "    session_size = len(groups[0])\n",
        "    for i in range(len(groups)):\n",
        "        noclicks_session_count = np.sum(~groups[i].any(axis=1))\n",
        "        one_group_res = noclicks_session_count / session_size\n",
        "        all_groups_res.append(one_group_res)\n",
        "    return all_groups_res"
      ],
      "execution_count": 7,
      "outputs": []
    },
    {
      "cell_type": "markdown",
      "metadata": {
        "id": "rGy1cyx-RCtJ"
      },
      "source": [
        "Т.к. это метрика \"плохости\", а по предыдущей метрике первый сплит оказался лучше, подадим в функцию сплиты в другом порядке: (split2, split1)"
      ]
    },
    {
      "cell_type": "code",
      "metadata": {
        "id": "mhY8fOKGZw1m",
        "outputId": "9395657e-b568-478c-8ac9-1ad6301bc0b8",
        "colab": {
          "base_uri": "https://localhost:8080/",
          "height": 347,
          "referenced_widgets": [
            "3cd39850d57741c1a82dfae4af939270",
            "aa73c24d92344f49a57a1174f8a8c248",
            "5c22bcfe65fe4f89ab5d0241911357b0",
            "6b575b391e9d48ed88d21937e96ba313",
            "d254fc67107243d3be581e9b06589289",
            "2502e3fc329e4cfba63588b28dc177d3",
            "c1941a5d599a4884bcce2e5d779d4c4c",
            "458c71d6c52e459cb39fe3d7320ff6e3"
          ]
        }
      },
      "source": [
        "ACL_abandonment, abandonment_split_stats = bootstrap(c2, c1, abandonment_rate_metric, n_groups=1000, n_iter=500,\n",
        "                                                     label1='c2', label2='c1')\n",
        "ACL_abandonment"
      ],
      "execution_count": 8,
      "outputs": [
        {
          "output_type": "display_data",
          "data": {
            "application/vnd.jupyter.widget-view+json": {
              "model_id": "3cd39850d57741c1a82dfae4af939270",
              "version_minor": 0,
              "version_major": 2
            },
            "text/plain": [
              "HBox(children=(FloatProgress(value=0.0, max=500.0), HTML(value='')))"
            ]
          },
          "metadata": {
            "tags": []
          }
        },
        {
          "output_type": "stream",
          "text": [
            "\n"
          ],
          "name": "stdout"
        },
        {
          "output_type": "display_data",
          "data": {
            "image/png": "[encoded data removed]",
            "text/plain": [
              "<Figure size 432x288 with 1 Axes>"
            ]
          },
          "metadata": {
            "tags": [],
            "needs_background": "light"
          }
        },
        {
          "output_type": "execute_result",
          "data": {
            "text/plain": [
              "1.0"
            ]
          },
          "metadata": {
            "tags": []
          },
          "execution_count": 8
        }
      ]
    },
    {
      "cell_type": "markdown",
      "metadata": {
        "id": "ZT7xMq9hdavf"
      },
      "source": [
        "В данном случае нулевая гипотеза о том, что различия в сплитах случайны, также отвергнута на каждой итерации bootstrap. Первый сплит также оказался лучше (\"отказов\" в первом сплите меньше)"
      ]
    }
  ]
}