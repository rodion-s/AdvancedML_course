{
 "cells": [
  {
   "cell_type": "code",
   "execution_count": null,
   "metadata": {},
   "outputs": [],
   "source": [
    "import pandas as pd\n",
    "beh_df = pd.read_csv('./part_concatenated1.txt', sep='\\t', header=None)\n",
    "beh_df = beh_df.rename(columns={0: 'DocumentId',\n",
    "                                1: 'UrlShows',\n",
    "                                2: 'UrlClicks',\n",
    "                                3: 'sDBN_shows',\n",
    "                                4: 'sDBN_clicks',\n",
    "                                5: 'sDBN_satisfied',\n",
    "                                6: 'UrlAvgPos',\n",
    "                                7: 'DocAvgTime'})\n",
    "alpha = 0.1\n",
    "beh_df['sDBN_a'] = (beh_df['sDBN_clicks'] + alpha) / (beh_df['sDBN_shows'] + 2 * alpha)\n",
    "beh_df['sDBN_s'] = (beh_df['sDBN_satisfied'] + alpha) / (beh_df['sDBN_clicks'] + 2 * alpha)\n",
    "beh_df['UrlCtr'] = beh_df['UrlClicks'] / beh_df['UrlShows']\n",
    "beh_df = beh_df.drop(columns=['UrlClicks'])"
   ]
  },
  {
   "cell_type": "code",
   "execution_count": null,
   "metadata": {},
   "outputs": [],
   "source": [
    "beh_df2 = pd.read_csv('./part_concatenated2.txt', sep='\\t', header=None)\n",
    "beh_df2 = beh_df2.rename(columns={0: 'DocumentId', \n",
    "                                  1: 'HostShows',\n",
    "                                  2: 'HostClicks',\n",
    "                                  3: 'to_drop1',\n",
    "                                  4: 'to_drop2',\n",
    "                                  5: 'to_drop3',\n",
    "                                  6: 'to_drop4',\n",
    "                                  7: 'HostAvgTime'})\n",
    "beh_df2['HostCtr'] = beh_df2['HostClicks'] / beh_df2['HostShows']\n",
    "beh_df2 = beh_df2.drop(columns=['to_drop1', 'to_drop2', 'to_drop3', 'to_drop4', 'HostClicks'])\n",
    "beh_df.merge(beh_df2, how='outer').to_csv('beh', index=None)"
   ]
  }
 ],
 "metadata": {
  "kernelspec": {
   "display_name": "Python 3",
   "language": "python",
   "name": "python3"
  },
  "language_info": {
   "codemirror_mode": {
    "name": "ipython",
    "version": 3
   },
   "file_extension": ".py",
   "mimetype": "text/x-python",
   "name": "python",
   "nbconvert_exporter": "python",
   "pygments_lexer": "ipython3",
   "version": "3.7.7"
  }
 },
 "nbformat": 4,
 "nbformat_minor": 4
}
