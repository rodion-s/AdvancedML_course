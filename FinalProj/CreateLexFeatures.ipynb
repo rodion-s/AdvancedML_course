{
 "cells": [
  {
   "cell_type": "code",
   "execution_count": null,
   "metadata": {
    "colab": {
     "base_uri": "https://localhost:8080/"
    },
    "id": "OKcK_xL543gO",
    "outputId": "321afa41-10a8-4dfa-ef04-d22c6e3f6296"
   },
   "outputs": [],
   "source": [
    "!pip install rank_bm25"
   ]
  },
  {
   "cell_type": "code",
   "execution_count": null,
   "metadata": {
    "colab": {
     "base_uri": "https://localhost:8080/"
    },
    "id": "YN7TYQSVjvPt",
    "outputId": "a37e32f4-69d3-4d0f-b44a-91dd824872c1"
   },
   "outputs": [],
   "source": [
    "import nltk\n",
    "nltk.download('punkt')"
   ]
  },
  {
   "cell_type": "code",
   "execution_count": null,
   "metadata": {
    "colab": {
     "base_uri": "https://localhost:8080/",
     "height": 206
    },
    "id": "Dsh5aO0C68yE",
    "outputId": "89a842a1-9c5a-44f9-b20d-cdbfff6dcfb2"
   },
   "outputs": [],
   "source": [
    "import pandas as pd\n",
    "titles_path = './utils/titles_corrected'\n",
    "titles_df = pd.read_csv(titles_path)\n",
    "titles_df.head()"
   ]
  },
  {
   "cell_type": "code",
   "execution_count": null,
   "metadata": {
    "colab": {
     "base_uri": "https://localhost:8080/",
     "height": 206
    },
    "id": "OIku9dul69em",
    "outputId": "60eb534b-4662-4b70-c032-53741ca139ff"
   },
   "outputs": [],
   "source": [
    "import pandas as pd\n",
    "queries_path = './utils/queries_corrected'\n",
    "queries_df = pd.read_csv(queries_path)\n",
    "queries_df.head()"
   ]
  },
  {
   "cell_type": "code",
   "execution_count": null,
   "metadata": {
    "id": "jir8ihjG4jAV"
   },
   "outputs": [],
   "source": [
    "from rank_bm25 import BM25Okapi, BM25Plus, BM25L"
   ]
  },
  {
   "cell_type": "code",
   "execution_count": null,
   "metadata": {
    "id": "Xh_5rmYo54Cj"
   },
   "outputs": [],
   "source": [
    "from nltk.tokenize import word_tokenize\n",
    "from nltk.util import ngrams\n",
    "\n",
    "def get_ngrams(text, n=1, word=True):\n",
    "    if word:\n",
    "        n_grams = ngrams(word_tokenize(text), n)\n",
    "        return [ ' '.join(grams) for grams in n_grams]\n",
    "    else:\n",
    "        n_grams = ngrams(text, n)\n",
    "        return [ ''.join(grams) for grams in n_grams]"
   ]
  },
  {
   "cell_type": "code",
   "execution_count": null,
   "metadata": {
    "id": "iHBY4L1b6J_V"
   },
   "outputs": [],
   "source": [
    "import pandas as pd\n",
    "sample_subm = pd.read_csv('./data/ranking-long-tail-queries-fall-2020/sample.csv/sample.csv')\n",
    "tuples = [tuple(sample_subm.values[i]) for i in range(len(sample_subm))]\n",
    "\n",
    "groups_mapping = dict()\n",
    "for elem in tuples:\n",
    "    if elem[0] not in groups_mapping:\n",
    "        groups_mapping[elem[0]] = [elem[1]]\n",
    "    else:\n",
    "        groups_mapping[elem[0]].append(elem[1])"
   ]
  },
  {
   "cell_type": "code",
   "execution_count": null,
   "metadata": {
    "colab": {
     "base_uri": "https://localhost:8080/"
    },
    "id": "v4vVQj8b6hFy",
    "outputId": "43297bee-5043-4831-d7a5-20d213c80f04"
   },
   "outputs": [],
   "source": [
    "import numpy as np\n",
    "queries_in_mapping = np.array(list(groups_mapping.keys()))\n",
    "queries_in_mapping"
   ]
  },
  {
   "cell_type": "code",
   "execution_count": null,
   "metadata": {
    "colab": {
     "base_uri": "https://localhost:8080/"
    },
    "id": "zp8N16fj6haJ",
    "outputId": "f8d87771-cad0-4692-f755-a4de8a49048e"
   },
   "outputs": [],
   "source": [
    "queries = queries_df.values[queries_in_mapping, :]\n",
    "queries"
   ]
  },
  {
   "cell_type": "code",
   "execution_count": null,
   "metadata": {
    "id": "_ulydJAw_rv0"
   },
   "outputs": [],
   "source": [
    "queries_arr = list(map(str, queries[:, 1]))"
   ]
  },
  {
   "cell_type": "markdown",
   "metadata": {
    "id": "kSQlaU8Txmz2"
   },
   "source": [
    "### Add features"
   ]
  },
  {
   "cell_type": "code",
   "execution_count": null,
   "metadata": {
    "id": "e9l2e-8Mxnud"
   },
   "outputs": [],
   "source": [
    "import pandas as pd\n",
    "marks_path = './data/ranking-long-tail-queries-fall-2020/train.marks.tsv/train.marks.tsv'\n",
    "marks_df = pd.read_csv(marks_path, '\\t', header=None)"
   ]
  },
  {
   "cell_type": "code",
   "execution_count": null,
   "metadata": {
    "id": "8fqGcSIJxpvL"
   },
   "outputs": [],
   "source": [
    "tuples = [tuple(marks_df.values[i]) for i in range(len(marks_df))]\n",
    "\n",
    "train_groups_mapping = dict()\n",
    "for elem in tuples:\n",
    "    if elem[0] not in train_groups_mapping:\n",
    "        train_groups_mapping[elem[0]] = [elem[1]]\n",
    "    else:\n",
    "        train_groups_mapping[elem[0]].append(elem[1])"
   ]
  },
  {
   "cell_type": "code",
   "execution_count": null,
   "metadata": {
    "colab": {
     "base_uri": "https://localhost:8080/"
    },
    "id": "kLoTxTNzxrQl",
    "outputId": "f113e195-6352-4078-aa55-b88346d2df50"
   },
   "outputs": [],
   "source": [
    "import numpy as np\n",
    "train_queries_in_mapping = np.array(list(train_groups_mapping.keys()))\n",
    "train_queries_in_mapping"
   ]
  },
  {
   "cell_type": "code",
   "execution_count": null,
   "metadata": {
    "colab": {
     "base_uri": "https://localhost:8080/",
     "height": 36
    },
    "id": "TC95P73hVM9j",
    "outputId": "dbd70a78-5516-4829-ecaf-4907f80e286d"
   },
   "outputs": [],
   "source": [
    "titles_df.values[:, 1][0]"
   ]
  },
  {
   "cell_type": "code",
   "execution_count": null,
   "metadata": {
    "colab": {
     "base_uri": "https://localhost:8080/"
    },
    "id": "0Uf9OBLeU5wo",
    "outputId": "341e6d1d-6968-4ca3-d054-7da1bc5b6104"
   },
   "outputs": [],
   "source": [
    "get_ngrams(titles_df.values[:, 1][0], n=1)"
   ]
  },
  {
   "cell_type": "code",
   "execution_count": null,
   "metadata": {
    "colab": {
     "base_uri": "https://localhost:8080/",
     "height": 68,
     "referenced_widgets": [
      "8ec6d542b2444d20a35d8a99ab78172e",
      "a6eb932b46cc40bbaa06172bf31df7d6",
      "67965054ae0145d184f766521681efde",
      "47fab254d6604bbba56da2f8509dac5a",
      "eb68d4205d004d608daa184ea380dde9",
      "1571a0d968ba4d9ba20e149515c4c44c",
      "ca337a83baea4f76a6de8e6845bc2a35",
      "0effcdb511504cd99e36b379a6db222b"
     ]
    },
    "id": "G4L_iiGJTc-L",
    "outputId": "ab56f3e1-9cae-4ac2-df22-0d8a7f31a3ab"
   },
   "outputs": [],
   "source": [
    "from tqdm import notebook\n",
    "all_sents = []\n",
    "for title in notebook.tqdm(titles_df.values[:, 1]):\n",
    "    current_sent = get_ngrams(str(title), n=1)\n",
    "    all_sents.append(current_sent)"
   ]
  },
  {
   "cell_type": "code",
   "execution_count": null,
   "metadata": {
    "colab": {
     "base_uri": "https://localhost:8080/",
     "height": 68,
     "referenced_widgets": [
      "3daee95c34544c1abc56dbd5a57b8615",
      "1e0babaebfe348c18b39cb9204827841",
      "86e7cb299bbf47f09ea3b88b191a7942",
      "7a4c8afbdf47485da8243edb8b7dc68f",
      "b8a26203c18c4be193cf04e4e34850c8",
      "8fae7d862e904a589c2db8792d5f54b2",
      "499d3275a08941bca551715a06623141",
      "e17d410c8b4a4210b423e882af085b63"
     ]
    },
    "id": "BEuePiwBxu1T",
    "outputId": "ada73f76-1a0b-47ba-8c5a-7c477ed05dcc"
   },
   "outputs": [],
   "source": [
    "bm25 = BM25Plus(all_sents)\n",
    "\n",
    "DocsId = []\n",
    "QueryId = []\n",
    "\n",
    "queries_tr = queries_df.values[train_queries_in_mapping, :]\n",
    "queries_arr_tr = list(map(str, queries_tr[:, 1]))\n",
    "\n",
    "bm25_scores = []\n",
    "for q_id, query in notebook.tqdm(zip(train_queries_in_mapping, queries_arr_tr)):\n",
    "\n",
    "    batch_scores = bm25.get_batch_scores(get_ngrams(query, n=1), train_groups_mapping[q_id])\n",
    "  \n",
    "    for doc_id, score in zip(train_groups_mapping[q_id], batch_scores):\n",
    "        QueryId.append(q_id)\n",
    "        DocsId.append(doc_id)\n",
    "        bm25_scores.append(score)\n",
    "        \n",
    "\n",
    "queries_test = queries_df.values[queries_in_mapping, :]\n",
    "queries_arr_test = list(map(str, queries_test[:, 1]))\n",
    "\n",
    "for q_id, query in notebook.tqdm(zip(queries_in_mapping, queries_arr_test)):\n",
    "\n",
    "    batch_scores = bm25.get_batch_scores(get_ngrams(query, n=1), groups_mapping[q_id])\n",
    "\n",
    "    for doc_id, score in zip(groups_mapping[q_id], batch_scores):\n",
    "        QueryId.append(q_id)\n",
    "        DocsId.append(doc_id)\n",
    "        bm25_scores.append(score)"
   ]
  },
  {
   "cell_type": "code",
   "execution_count": null,
   "metadata": {},
   "outputs": [],
   "source": [
    "col_name = 'Bm25Plus1word_ru'\n",
    "df = pd.DataFrame({\n",
    "    'QueryId' : QueryId,\n",
    "    'DocumentId' : DocsId,\n",
    "    col_name: bm25_scores\n",
    "})"
   ]
  },
  {
   "cell_type": "code",
   "execution_count": null,
   "metadata": {},
   "outputs": [],
   "source": [
    "word_gram = 1\n",
    "bm25 = BM25L(all_sents)\n",
    "\n",
    "bm25_scores = []\n",
    "for q_id, query in notebook.tqdm(zip(train_queries_in_mapping, queries_arr_tr)):\n",
    "\n",
    "    batch_scores = bm25.get_batch_scores(get_ngrams(query, n=word_gram), train_groups_mapping[q_id])\n",
    "    \n",
    "    for doc_id, score in zip(train_groups_mapping[q_id], batch_scores):\n",
    "        bm25_scores.append(score)\n",
    "\n",
    "for q_id, query in notebook.tqdm(zip(queries_in_mapping, queries_arr_test)):\n",
    "\n",
    "    batch_scores = bm25.get_batch_scores(get_ngrams(query, n=word_gram), groups_mapping[q_id])\n",
    "\n",
    "    for doc_id, score in zip(groups_mapping[q_id], batch_scores):\n",
    "        bm25_scores.append(score)\n",
    "df['Bm25OL1word_ru'] = bm25_scores"
   ]
  },
  {
   "cell_type": "code",
   "execution_count": null,
   "metadata": {},
   "outputs": [],
   "source": [
    "bm25 = BM25Okapi(all_sents)\n",
    "\n",
    "bm25_scores = []\n",
    "for q_id, query in notebook.tqdm(zip(train_queries_in_mapping, queries_arr_tr)):\n",
    "\n",
    "    batch_scores = bm25.get_batch_scores(get_ngrams(query, n=word_gram), train_groups_mapping[q_id])\n",
    "    \n",
    "    for doc_id, score in zip(train_groups_mapping[q_id], batch_scores):\n",
    "        bm25_scores.append(score)\n",
    "\n",
    "for q_id, query in notebook.tqdm(zip(queries_in_mapping, queries_arr_test)):\n",
    "\n",
    "    batch_scores = bm25.get_batch_scores(get_ngrams(query, n=word_gram), groups_mapping[q_id])\n",
    "\n",
    "    for doc_id, score in zip(groups_mapping[q_id], batch_scores):\n",
    "        bm25_scores.append(score)\n",
    "df['Bm25Okapi1word_ru'] = bm25_scores"
   ]
  },
  {
   "cell_type": "code",
   "execution_count": null,
   "metadata": {},
   "outputs": [],
   "source": [
    "path_to_parsed = './utils/parsed/'\n",
    "import os\n",
    "parsed_filenames = sorted(os.listdir(path_to_parsed), key=int)\n",
    "\n",
    "all_sents_text = []\n",
    "for docname in notebook.tqdm(parsed_filenames):\n",
    "    with open(path_to_parsed + docname, 'r') as f:\n",
    "        current_sent = get_ngrams(str(f.read()), n=1)\n",
    "        all_sents_text.append(current_sent)"
   ]
  },
  {
   "cell_type": "code",
   "execution_count": null,
   "metadata": {},
   "outputs": [],
   "source": [
    "bm25 = BM25Plus(all_sents_text)\n",
    "\n",
    "DocsId = []\n",
    "QueryId = []\n",
    "\n",
    "queries_tr = queries_df.values[train_queries_in_mapping, :]\n",
    "queries_arr_tr = list(map(str, queries_tr[:, 1]))\n",
    "\n",
    "bm25_scores = []\n",
    "for q_id, query in notebook.tqdm(zip(train_queries_in_mapping, queries_arr_tr)):\n",
    "\n",
    "    batch_scores = bm25.get_batch_scores(get_ngrams(query, n=1), train_groups_mapping[q_id])\n",
    "  \n",
    "    for doc_id, score in zip(train_groups_mapping[q_id], batch_scores):\n",
    "        QueryId.append(q_id)\n",
    "        DocsId.append(doc_id)\n",
    "        bm25_scores.append(score)\n",
    "        \n",
    "\n",
    "queries_test = queries_df.values[queries_in_mapping, :]\n",
    "queries_arr_test = list(map(str, queries_test[:, 1]))\n",
    "\n",
    "for q_id, query in notebook.tqdm(zip(queries_in_mapping, queries_arr_test)):\n",
    "\n",
    "    batch_scores = bm25.get_batch_scores(get_ngrams(query, n=1), groups_mapping[q_id])\n",
    "\n",
    "    for doc_id, score in zip(groups_mapping[q_id], batch_scores):\n",
    "        QueryId.append(q_id)\n",
    "        DocsId.append(doc_id)\n",
    "        bm25_scores.append(score)\n",
    "df['Bm25Texts'] = bm25_scores"
   ]
  },
  {
   "cell_type": "code",
   "execution_count": null,
   "metadata": {},
   "outputs": [],
   "source": [
    "df.to_csv('lex', index=None)"
   ]
  }
 ],
 "metadata": {
  "colab": {
   "collapsed_sections": [],
   "name": "HereDorian \"Rank_bm25Plus_all_letterGrammsipynb\"",
   "provenance": [],
   "toc_visible": true
  },
  "kernelspec": {
   "display_name": "Python 3",
   "language": "python",
   "name": "python3"
  },
  "language_info": {
   "codemirror_mode": {
    "name": "ipython",
    "version": 3
   },
   "file_extension": ".py",
   "mimetype": "text/x-python",
   "name": "python",
   "nbconvert_exporter": "python",
   "pygments_lexer": "ipython3",
   "version": "3.7.7"
  },
  "widgets": {
   "application/vnd.jupyter.widget-state+json": {
    "0effcdb511504cd99e36b379a6db222b": {
     "model_module": "@jupyter-widgets/base",
     "model_name": "LayoutModel",
     "state": {
      "_model_module": "@jupyter-widgets/base",
      "_model_module_version": "1.2.0",
      "_model_name": "LayoutModel",
      "_view_count": null,
      "_view_module": "@jupyter-widgets/base",
      "_view_module_version": "1.2.0",
      "_view_name": "LayoutView",
      "align_content": null,
      "align_items": null,
      "align_self": null,
      "border": null,
      "bottom": null,
      "display": null,
      "flex": null,
      "flex_flow": null,
      "grid_area": null,
      "grid_auto_columns": null,
      "grid_auto_flow": null,
      "grid_auto_rows": null,
      "grid_column": null,
      "grid_gap": null,
      "grid_row": null,
      "grid_template_areas": null,
      "grid_template_columns": null,
      "grid_template_rows": null,
      "height": null,
      "justify_content": null,
      "justify_items": null,
      "left": null,
      "margin": null,
      "max_height": null,
      "max_width": null,
      "min_height": null,
      "min_width": null,
      "object_fit": null,
      "object_position": null,
      "order": null,
      "overflow": null,
      "overflow_x": null,
      "overflow_y": null,
      "padding": null,
      "right": null,
      "top": null,
      "visibility": null,
      "width": null
     }
    },
    "1571a0d968ba4d9ba20e149515c4c44c": {
     "model_module": "@jupyter-widgets/base",
     "model_name": "LayoutModel",
     "state": {
      "_model_module": "@jupyter-widgets/base",
      "_model_module_version": "1.2.0",
      "_model_name": "LayoutModel",
      "_view_count": null,
      "_view_module": "@jupyter-widgets/base",
      "_view_module_version": "1.2.0",
      "_view_name": "LayoutView",
      "align_content": null,
      "align_items": null,
      "align_self": null,
      "border": null,
      "bottom": null,
      "display": null,
      "flex": null,
      "flex_flow": null,
      "grid_area": null,
      "grid_auto_columns": null,
      "grid_auto_flow": null,
      "grid_auto_rows": null,
      "grid_column": null,
      "grid_gap": null,
      "grid_row": null,
      "grid_template_areas": null,
      "grid_template_columns": null,
      "grid_template_rows": null,
      "height": null,
      "justify_content": null,
      "justify_items": null,
      "left": null,
      "margin": null,
      "max_height": null,
      "max_width": null,
      "min_height": null,
      "min_width": null,
      "object_fit": null,
      "object_position": null,
      "order": null,
      "overflow": null,
      "overflow_x": null,
      "overflow_y": null,
      "padding": null,
      "right": null,
      "top": null,
      "visibility": null,
      "width": null
     }
    },
    "1e0babaebfe348c18b39cb9204827841": {
     "model_module": "@jupyter-widgets/base",
     "model_name": "LayoutModel",
     "state": {
      "_model_module": "@jupyter-widgets/base",
      "_model_module_version": "1.2.0",
      "_model_name": "LayoutModel",
      "_view_count": null,
      "_view_module": "@jupyter-widgets/base",
      "_view_module_version": "1.2.0",
      "_view_name": "LayoutView",
      "align_content": null,
      "align_items": null,
      "align_self": null,
      "border": null,
      "bottom": null,
      "display": null,
      "flex": null,
      "flex_flow": null,
      "grid_area": null,
      "grid_auto_columns": null,
      "grid_auto_flow": null,
      "grid_auto_rows": null,
      "grid_column": null,
      "grid_gap": null,
      "grid_row": null,
      "grid_template_areas": null,
      "grid_template_columns": null,
      "grid_template_rows": null,
      "height": null,
      "justify_content": null,
      "justify_items": null,
      "left": null,
      "margin": null,
      "max_height": null,
      "max_width": null,
      "min_height": null,
      "min_width": null,
      "object_fit": null,
      "object_position": null,
      "order": null,
      "overflow": null,
      "overflow_x": null,
      "overflow_y": null,
      "padding": null,
      "right": null,
      "top": null,
      "visibility": null,
      "width": null
     }
    },
    "24a2862bdeda493282b2d21c00ed3e1b": {
     "model_module": "@jupyter-widgets/controls",
     "model_name": "ProgressStyleModel",
     "state": {
      "_model_module": "@jupyter-widgets/controls",
      "_model_module_version": "1.5.0",
      "_model_name": "ProgressStyleModel",
      "_view_count": null,
      "_view_module": "@jupyter-widgets/base",
      "_view_module_version": "1.2.0",
      "_view_name": "StyleView",
      "bar_color": null,
      "description_width": "initial"
     }
    },
    "38ae31877e524d8286da22f60727adc5": {
     "model_module": "@jupyter-widgets/base",
     "model_name": "LayoutModel",
     "state": {
      "_model_module": "@jupyter-widgets/base",
      "_model_module_version": "1.2.0",
      "_model_name": "LayoutModel",
      "_view_count": null,
      "_view_module": "@jupyter-widgets/base",
      "_view_module_version": "1.2.0",
      "_view_name": "LayoutView",
      "align_content": null,
      "align_items": null,
      "align_self": null,
      "border": null,
      "bottom": null,
      "display": null,
      "flex": null,
      "flex_flow": null,
      "grid_area": null,
      "grid_auto_columns": null,
      "grid_auto_flow": null,
      "grid_auto_rows": null,
      "grid_column": null,
      "grid_gap": null,
      "grid_row": null,
      "grid_template_areas": null,
      "grid_template_columns": null,
      "grid_template_rows": null,
      "height": null,
      "justify_content": null,
      "justify_items": null,
      "left": null,
      "margin": null,
      "max_height": null,
      "max_width": null,
      "min_height": null,
      "min_width": null,
      "object_fit": null,
      "object_position": null,
      "order": null,
      "overflow": null,
      "overflow_x": null,
      "overflow_y": null,
      "padding": null,
      "right": null,
      "top": null,
      "visibility": null,
      "width": null
     }
    },
    "3daee95c34544c1abc56dbd5a57b8615": {
     "model_module": "@jupyter-widgets/controls",
     "model_name": "HBoxModel",
     "state": {
      "_dom_classes": [],
      "_model_module": "@jupyter-widgets/controls",
      "_model_module_version": "1.5.0",
      "_model_name": "HBoxModel",
      "_view_count": null,
      "_view_module": "@jupyter-widgets/controls",
      "_view_module_version": "1.5.0",
      "_view_name": "HBoxView",
      "box_style": "",
      "children": [
       "IPY_MODEL_86e7cb299bbf47f09ea3b88b191a7942",
       "IPY_MODEL_7a4c8afbdf47485da8243edb8b7dc68f"
      ],
      "layout": "IPY_MODEL_1e0babaebfe348c18b39cb9204827841"
     }
    },
    "47fab254d6604bbba56da2f8509dac5a": {
     "model_module": "@jupyter-widgets/controls",
     "model_name": "HTMLModel",
     "state": {
      "_dom_classes": [],
      "_model_module": "@jupyter-widgets/controls",
      "_model_module_version": "1.5.0",
      "_model_name": "HTMLModel",
      "_view_count": null,
      "_view_module": "@jupyter-widgets/controls",
      "_view_module_version": "1.5.0",
      "_view_name": "HTMLView",
      "description": "",
      "description_tooltip": null,
      "layout": "IPY_MODEL_0effcdb511504cd99e36b379a6db222b",
      "placeholder": "​",
      "style": "IPY_MODEL_ca337a83baea4f76a6de8e6845bc2a35",
      "value": " 582167/582167 [01:09&lt;00:00, 8341.05it/s]"
     }
    },
    "499d3275a08941bca551715a06623141": {
     "model_module": "@jupyter-widgets/controls",
     "model_name": "DescriptionStyleModel",
     "state": {
      "_model_module": "@jupyter-widgets/controls",
      "_model_module_version": "1.5.0",
      "_model_name": "DescriptionStyleModel",
      "_view_count": null,
      "_view_module": "@jupyter-widgets/base",
      "_view_module_version": "1.2.0",
      "_view_name": "StyleView",
      "description_width": ""
     }
    },
    "67965054ae0145d184f766521681efde": {
     "model_module": "@jupyter-widgets/controls",
     "model_name": "FloatProgressModel",
     "state": {
      "_dom_classes": [],
      "_model_module": "@jupyter-widgets/controls",
      "_model_module_version": "1.5.0",
      "_model_name": "FloatProgressModel",
      "_view_count": null,
      "_view_module": "@jupyter-widgets/controls",
      "_view_module_version": "1.5.0",
      "_view_name": "ProgressView",
      "bar_style": "success",
      "description": "100%",
      "description_tooltip": null,
      "layout": "IPY_MODEL_1571a0d968ba4d9ba20e149515c4c44c",
      "max": 582167,
      "min": 0,
      "orientation": "horizontal",
      "style": "IPY_MODEL_eb68d4205d004d608daa184ea380dde9",
      "value": 582167
     }
    },
    "7a4c8afbdf47485da8243edb8b7dc68f": {
     "model_module": "@jupyter-widgets/controls",
     "model_name": "HTMLModel",
     "state": {
      "_dom_classes": [],
      "_model_module": "@jupyter-widgets/controls",
      "_model_module_version": "1.5.0",
      "_model_name": "HTMLModel",
      "_view_count": null,
      "_view_module": "@jupyter-widgets/controls",
      "_view_module_version": "1.5.0",
      "_view_name": "HTMLView",
      "description": "",
      "description_tooltip": null,
      "layout": "IPY_MODEL_e17d410c8b4a4210b423e882af085b63",
      "placeholder": "​",
      "style": "IPY_MODEL_499d3275a08941bca551715a06623141",
      "value": " 2111/? [01:37&lt;00:00, 21.54it/s]"
     }
    },
    "84b84cc3f7a2485c82ad83fe1bbe24ea": {
     "model_module": "@jupyter-widgets/controls",
     "model_name": "HTMLModel",
     "state": {
      "_dom_classes": [],
      "_model_module": "@jupyter-widgets/controls",
      "_model_module_version": "1.5.0",
      "_model_name": "HTMLModel",
      "_view_count": null,
      "_view_module": "@jupyter-widgets/controls",
      "_view_module_version": "1.5.0",
      "_view_name": "HTMLView",
      "description": "",
      "description_tooltip": null,
      "layout": "IPY_MODEL_9ac43595b5cf4ed4a61a5699e9dbb61f",
      "placeholder": "​",
      "style": "IPY_MODEL_b2539436c2fe43ad8c1ecf272bef1c90",
      "value": " 4200/? [03:09&lt;00:00, 22.13it/s]"
     }
    },
    "86e7cb299bbf47f09ea3b88b191a7942": {
     "model_module": "@jupyter-widgets/controls",
     "model_name": "FloatProgressModel",
     "state": {
      "_dom_classes": [],
      "_model_module": "@jupyter-widgets/controls",
      "_model_module_version": "1.5.0",
      "_model_name": "FloatProgressModel",
      "_view_count": null,
      "_view_module": "@jupyter-widgets/controls",
      "_view_module_version": "1.5.0",
      "_view_name": "ProgressView",
      "bar_style": "success",
      "description": "",
      "description_tooltip": null,
      "layout": "IPY_MODEL_8fae7d862e904a589c2db8792d5f54b2",
      "max": 1,
      "min": 0,
      "orientation": "horizontal",
      "style": "IPY_MODEL_b8a26203c18c4be193cf04e4e34850c8",
      "value": 1
     }
    },
    "8ec6d542b2444d20a35d8a99ab78172e": {
     "model_module": "@jupyter-widgets/controls",
     "model_name": "HBoxModel",
     "state": {
      "_dom_classes": [],
      "_model_module": "@jupyter-widgets/controls",
      "_model_module_version": "1.5.0",
      "_model_name": "HBoxModel",
      "_view_count": null,
      "_view_module": "@jupyter-widgets/controls",
      "_view_module_version": "1.5.0",
      "_view_name": "HBoxView",
      "box_style": "",
      "children": [
       "IPY_MODEL_67965054ae0145d184f766521681efde",
       "IPY_MODEL_47fab254d6604bbba56da2f8509dac5a"
      ],
      "layout": "IPY_MODEL_a6eb932b46cc40bbaa06172bf31df7d6"
     }
    },
    "8fae7d862e904a589c2db8792d5f54b2": {
     "model_module": "@jupyter-widgets/base",
     "model_name": "LayoutModel",
     "state": {
      "_model_module": "@jupyter-widgets/base",
      "_model_module_version": "1.2.0",
      "_model_name": "LayoutModel",
      "_view_count": null,
      "_view_module": "@jupyter-widgets/base",
      "_view_module_version": "1.2.0",
      "_view_name": "LayoutView",
      "align_content": null,
      "align_items": null,
      "align_self": null,
      "border": null,
      "bottom": null,
      "display": null,
      "flex": null,
      "flex_flow": null,
      "grid_area": null,
      "grid_auto_columns": null,
      "grid_auto_flow": null,
      "grid_auto_rows": null,
      "grid_column": null,
      "grid_gap": null,
      "grid_row": null,
      "grid_template_areas": null,
      "grid_template_columns": null,
      "grid_template_rows": null,
      "height": null,
      "justify_content": null,
      "justify_items": null,
      "left": null,
      "margin": null,
      "max_height": null,
      "max_width": null,
      "min_height": null,
      "min_width": null,
      "object_fit": null,
      "object_position": null,
      "order": null,
      "overflow": null,
      "overflow_x": null,
      "overflow_y": null,
      "padding": null,
      "right": null,
      "top": null,
      "visibility": null,
      "width": null
     }
    },
    "9ac43595b5cf4ed4a61a5699e9dbb61f": {
     "model_module": "@jupyter-widgets/base",
     "model_name": "LayoutModel",
     "state": {
      "_model_module": "@jupyter-widgets/base",
      "_model_module_version": "1.2.0",
      "_model_name": "LayoutModel",
      "_view_count": null,
      "_view_module": "@jupyter-widgets/base",
      "_view_module_version": "1.2.0",
      "_view_name": "LayoutView",
      "align_content": null,
      "align_items": null,
      "align_self": null,
      "border": null,
      "bottom": null,
      "display": null,
      "flex": null,
      "flex_flow": null,
      "grid_area": null,
      "grid_auto_columns": null,
      "grid_auto_flow": null,
      "grid_auto_rows": null,
      "grid_column": null,
      "grid_gap": null,
      "grid_row": null,
      "grid_template_areas": null,
      "grid_template_columns": null,
      "grid_template_rows": null,
      "height": null,
      "justify_content": null,
      "justify_items": null,
      "left": null,
      "margin": null,
      "max_height": null,
      "max_width": null,
      "min_height": null,
      "min_width": null,
      "object_fit": null,
      "object_position": null,
      "order": null,
      "overflow": null,
      "overflow_x": null,
      "overflow_y": null,
      "padding": null,
      "right": null,
      "top": null,
      "visibility": null,
      "width": null
     }
    },
    "a6eb932b46cc40bbaa06172bf31df7d6": {
     "model_module": "@jupyter-widgets/base",
     "model_name": "LayoutModel",
     "state": {
      "_model_module": "@jupyter-widgets/base",
      "_model_module_version": "1.2.0",
      "_model_name": "LayoutModel",
      "_view_count": null,
      "_view_module": "@jupyter-widgets/base",
      "_view_module_version": "1.2.0",
      "_view_name": "LayoutView",
      "align_content": null,
      "align_items": null,
      "align_self": null,
      "border": null,
      "bottom": null,
      "display": null,
      "flex": null,
      "flex_flow": null,
      "grid_area": null,
      "grid_auto_columns": null,
      "grid_auto_flow": null,
      "grid_auto_rows": null,
      "grid_column": null,
      "grid_gap": null,
      "grid_row": null,
      "grid_template_areas": null,
      "grid_template_columns": null,
      "grid_template_rows": null,
      "height": null,
      "justify_content": null,
      "justify_items": null,
      "left": null,
      "margin": null,
      "max_height": null,
      "max_width": null,
      "min_height": null,
      "min_width": null,
      "object_fit": null,
      "object_position": null,
      "order": null,
      "overflow": null,
      "overflow_x": null,
      "overflow_y": null,
      "padding": null,
      "right": null,
      "top": null,
      "visibility": null,
      "width": null
     }
    },
    "a7059b479d4b48678c83030bab76e08e": {
     "model_module": "@jupyter-widgets/controls",
     "model_name": "FloatProgressModel",
     "state": {
      "_dom_classes": [],
      "_model_module": "@jupyter-widgets/controls",
      "_model_module_version": "1.5.0",
      "_model_name": "FloatProgressModel",
      "_view_count": null,
      "_view_module": "@jupyter-widgets/controls",
      "_view_module_version": "1.5.0",
      "_view_name": "ProgressView",
      "bar_style": "success",
      "description": "",
      "description_tooltip": null,
      "layout": "IPY_MODEL_38ae31877e524d8286da22f60727adc5",
      "max": 1,
      "min": 0,
      "orientation": "horizontal",
      "style": "IPY_MODEL_24a2862bdeda493282b2d21c00ed3e1b",
      "value": 1
     }
    },
    "b2539436c2fe43ad8c1ecf272bef1c90": {
     "model_module": "@jupyter-widgets/controls",
     "model_name": "DescriptionStyleModel",
     "state": {
      "_model_module": "@jupyter-widgets/controls",
      "_model_module_version": "1.5.0",
      "_model_name": "DescriptionStyleModel",
      "_view_count": null,
      "_view_module": "@jupyter-widgets/base",
      "_view_module_version": "1.2.0",
      "_view_name": "StyleView",
      "description_width": ""
     }
    },
    "b61493f360004ae6a469c4de8c428a57": {
     "model_module": "@jupyter-widgets/base",
     "model_name": "LayoutModel",
     "state": {
      "_model_module": "@jupyter-widgets/base",
      "_model_module_version": "1.2.0",
      "_model_name": "LayoutModel",
      "_view_count": null,
      "_view_module": "@jupyter-widgets/base",
      "_view_module_version": "1.2.0",
      "_view_name": "LayoutView",
      "align_content": null,
      "align_items": null,
      "align_self": null,
      "border": null,
      "bottom": null,
      "display": null,
      "flex": null,
      "flex_flow": null,
      "grid_area": null,
      "grid_auto_columns": null,
      "grid_auto_flow": null,
      "grid_auto_rows": null,
      "grid_column": null,
      "grid_gap": null,
      "grid_row": null,
      "grid_template_areas": null,
      "grid_template_columns": null,
      "grid_template_rows": null,
      "height": null,
      "justify_content": null,
      "justify_items": null,
      "left": null,
      "margin": null,
      "max_height": null,
      "max_width": null,
      "min_height": null,
      "min_width": null,
      "object_fit": null,
      "object_position": null,
      "order": null,
      "overflow": null,
      "overflow_x": null,
      "overflow_y": null,
      "padding": null,
      "right": null,
      "top": null,
      "visibility": null,
      "width": null
     }
    },
    "b8a26203c18c4be193cf04e4e34850c8": {
     "model_module": "@jupyter-widgets/controls",
     "model_name": "ProgressStyleModel",
     "state": {
      "_model_module": "@jupyter-widgets/controls",
      "_model_module_version": "1.5.0",
      "_model_name": "ProgressStyleModel",
      "_view_count": null,
      "_view_module": "@jupyter-widgets/base",
      "_view_module_version": "1.2.0",
      "_view_name": "StyleView",
      "bar_color": null,
      "description_width": "initial"
     }
    },
    "ca337a83baea4f76a6de8e6845bc2a35": {
     "model_module": "@jupyter-widgets/controls",
     "model_name": "DescriptionStyleModel",
     "state": {
      "_model_module": "@jupyter-widgets/controls",
      "_model_module_version": "1.5.0",
      "_model_name": "DescriptionStyleModel",
      "_view_count": null,
      "_view_module": "@jupyter-widgets/base",
      "_view_module_version": "1.2.0",
      "_view_name": "StyleView",
      "description_width": ""
     }
    },
    "e17d410c8b4a4210b423e882af085b63": {
     "model_module": "@jupyter-widgets/base",
     "model_name": "LayoutModel",
     "state": {
      "_model_module": "@jupyter-widgets/base",
      "_model_module_version": "1.2.0",
      "_model_name": "LayoutModel",
      "_view_count": null,
      "_view_module": "@jupyter-widgets/base",
      "_view_module_version": "1.2.0",
      "_view_name": "LayoutView",
      "align_content": null,
      "align_items": null,
      "align_self": null,
      "border": null,
      "bottom": null,
      "display": null,
      "flex": null,
      "flex_flow": null,
      "grid_area": null,
      "grid_auto_columns": null,
      "grid_auto_flow": null,
      "grid_auto_rows": null,
      "grid_column": null,
      "grid_gap": null,
      "grid_row": null,
      "grid_template_areas": null,
      "grid_template_columns": null,
      "grid_template_rows": null,
      "height": null,
      "justify_content": null,
      "justify_items": null,
      "left": null,
      "margin": null,
      "max_height": null,
      "max_width": null,
      "min_height": null,
      "min_width": null,
      "object_fit": null,
      "object_position": null,
      "order": null,
      "overflow": null,
      "overflow_x": null,
      "overflow_y": null,
      "padding": null,
      "right": null,
      "top": null,
      "visibility": null,
      "width": null
     }
    },
    "eb00968f09834b1da0cb2fc18e06cff8": {
     "model_module": "@jupyter-widgets/controls",
     "model_name": "HBoxModel",
     "state": {
      "_dom_classes": [],
      "_model_module": "@jupyter-widgets/controls",
      "_model_module_version": "1.5.0",
      "_model_name": "HBoxModel",
      "_view_count": null,
      "_view_module": "@jupyter-widgets/controls",
      "_view_module_version": "1.5.0",
      "_view_name": "HBoxView",
      "box_style": "",
      "children": [
       "IPY_MODEL_a7059b479d4b48678c83030bab76e08e",
       "IPY_MODEL_84b84cc3f7a2485c82ad83fe1bbe24ea"
      ],
      "layout": "IPY_MODEL_b61493f360004ae6a469c4de8c428a57"
     }
    },
    "eb68d4205d004d608daa184ea380dde9": {
     "model_module": "@jupyter-widgets/controls",
     "model_name": "ProgressStyleModel",
     "state": {
      "_model_module": "@jupyter-widgets/controls",
      "_model_module_version": "1.5.0",
      "_model_name": "ProgressStyleModel",
      "_view_count": null,
      "_view_module": "@jupyter-widgets/base",
      "_view_module_version": "1.2.0",
      "_view_name": "StyleView",
      "bar_color": null,
      "description_width": "initial"
     }
    }
   }
  }
 },
 "nbformat": 4,
 "nbformat_minor": 1
}
