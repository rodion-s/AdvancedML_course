{
 "cells": [
  {
   "cell_type": "markdown",
   "metadata": {
    "id": "oG2WmqchGNwZ"
   },
   "source": [
    "### Final"
   ]
  },
  {
   "cell_type": "code",
   "execution_count": null,
   "metadata": {
    "executionInfo": {
     "elapsed": 8989,
     "status": "ok",
     "timestamp": 1614036890182,
     "user": {
      "displayName": "D H",
      "photoUrl": "",
      "userId": "13264644035740762546"
     },
     "user_tz": -180
    },
    "id": "H_yTjDbVZwtX"
   },
   "outputs": [],
   "source": [
    "## Start\n",
    "import pandas as pd\n",
    "lpath = './'\n",
    "sem_df = pd.read_csv(lpath + 'sem')\n",
    "lex_df = pd.read_csv(lpath + 'lex')\n",
    "beh_df = pd.read_csv(lpath + 'beh')"
   ]
  },
  {
   "cell_type": "code",
   "execution_count": null,
   "metadata": {
    "executionInfo": {
     "elapsed": 15290,
     "status": "ok",
     "timestamp": 1614036896504,
     "user": {
      "displayName": "D H",
      "photoUrl": "",
      "userId": "13264644035740762546"
     },
     "user_tz": -180
    },
    "id": "54cLGgGXaCW-"
   },
   "outputs": [],
   "source": [
    "marks_path = './data/ranking-long-tail-queries-fall-2020/train.marks.tsv/train.marks.tsv'\n",
    "marks_df = pd.read_csv(marks_path, header=None, sep='\\t')\n",
    "marks_df = marks_df.rename(columns={0: 'QueryId', \n",
    "                         1: 'DocumentId',\n",
    "                         2: 'mark'})\n",
    "\n",
    "sample_path = './data/ranking-long-tail-queries-fall-2020/sample.csv/sample.csv'\n",
    "sample_df = pd.read_csv(sample_path, sep=',')\n"
   ]
  },
  {
   "cell_type": "code",
   "execution_count": null,
   "metadata": {
    "executionInfo": {
     "elapsed": 16798,
     "status": "ok",
     "timestamp": 1614036898030,
     "user": {
      "displayName": "D H",
      "photoUrl": "",
      "userId": "13264644035740762546"
     },
     "user_tz": -180
    },
    "id": "W2bd_nH7aaCi"
   },
   "outputs": [],
   "source": [
    "all_df = sem_df.merge(lex_df).merge(beh_df)\n",
    "\n",
    "train_df = marks_df.merge(all_df, how='left')\n",
    "test_df = sample_df.merge(all_df, how='left')"
   ]
  },
  {
   "cell_type": "code",
   "execution_count": null,
   "metadata": {
    "executionInfo": {
     "elapsed": 16266,
     "status": "ok",
     "timestamp": 1614036898033,
     "user": {
      "displayName": "D H",
      "photoUrl": "",
      "userId": "13264644035740762546"
     },
     "user_tz": -180
    },
    "id": "a9UVHtcpjgh2"
   },
   "outputs": [],
   "source": [
    "curr_valnames = set(all_df.columns) - set(['DocumentId', 'QueryId', 'mark'])"
   ]
  },
  {
   "cell_type": "code",
   "execution_count": null,
   "metadata": {
    "colab": {
     "base_uri": "https://localhost:8080/"
    },
    "executionInfo": {
     "elapsed": 26547,
     "status": "ok",
     "timestamp": 1614036910182,
     "user": {
      "displayName": "D H",
      "photoUrl": "",
      "userId": "13264644035740762546"
     },
     "user_tz": -180
    },
    "id": "2LmFh3rLtQOl",
    "outputId": "de78a77e-fed9-45e7-84ef-93febf50b61f"
   },
   "outputs": [],
   "source": [
    "!pip install catboost"
   ]
  },
  {
   "cell_type": "code",
   "execution_count": null,
   "metadata": {
    "colab": {
     "base_uri": "https://localhost:8080/",
     "height": 304
    },
    "executionInfo": {
     "elapsed": 607627,
     "status": "error",
     "timestamp": 1614037495159,
     "user": {
      "displayName": "D H",
      "photoUrl": "",
      "userId": "13264644035740762546"
     },
     "user_tz": -180
    },
    "id": "8KRC8ofdf231",
    "outputId": "5424ae2c-358c-4b49-d122-efe1df901ba3"
   },
   "outputs": [],
   "source": [
    "###!\n",
    "import numpy as np\n",
    "from catboost import CatBoost, Pool\n",
    "train_df_with_marks = train_df\n",
    "test = test_df\n",
    "#\n",
    "X_train = train_df_with_marks[curr_valnames].values\n",
    "y_train = train_df_with_marks[\"mark\"].values\n",
    "X_test = test[curr_valnames].values\n",
    "\n",
    "full = Pool(\n",
    "    data = train_df_with_marks[curr_valnames].values,\n",
    "    label = train_df_with_marks.mark.values / 5,\n",
    "    group_id = train_df_with_marks.QueryId.values\n",
    ")\n",
    "#\n",
    "parameters = {\n",
    "    'iterations': 1000,\n",
    "    'custom_metric': ['NDCG', 'PFound', 'AverageGain:top=5'],\n",
    "    'verbose': False,\n",
    "    'random_seed': 1313,\n",
    "    'depth': 7,\n",
    "    'bootstrap_type': 'Bernoulli',\n",
    "    'loss_function': 'YetiRank',\n",
    "    'subsample':0.925\n",
    "}\n",
    "#\n",
    "\n",
    "model = CatBoost(parameters)\n",
    "print('catboost fitting...')\n",
    "model.fit(full, eval_set = [full])\n",
    "print('catboost fit finished...')\n",
    "\n",
    "\n",
    "##\n",
    "import lightgbm as gbm\n",
    "group_train = [query for query in np.bincount(train_all.QueryId.tolist()) if query > 0]\n",
    "\n",
    "\n",
    "params={'boosting_type': 'gbdt',\n",
    "        'score': 'ndcg@5',\n",
    "        'n_estimators': 100,\n",
    "        'subsample': 0.9,\n",
    "        'learning_rate': 0.1,\n",
    "        'num_leaves': 63}\n",
    "Ranker1 = gbm.LGBMRanker(**params)\n",
    "print('lgbm100 fitting...')\n",
    "Ranker1.fit(X_train, y_train, group=group_train, verbose=1)\n",
    "print('lgbm100 fit finished')\n",
    "\n",
    "params={'boosting_type':'gbdt',\n",
    "        'score':'ndcg@5',\n",
    "        'n_estimators':3000,\n",
    "        'subsample':0.95,\n",
    "        'learning_rate':0.007,\n",
    "        'num_leaves':29}\n",
    "Ranker = gbm.LGBMRanker(**params)\n",
    "print('lgbm3000 fitting...')\n",
    "Ranker.fit(X_train, y_train, group=group_train, verbose=1)\n",
    "print('lgbm3000 fit finished...')\n"
   ]
  },
  {
   "cell_type": "code",
   "execution_count": null,
   "metadata": {
    "executionInfo": {
     "elapsed": 304616,
     "status": "ok",
     "timestamp": 1614039475927,
     "user": {
      "displayName": "D H",
      "photoUrl": "",
      "userId": "13264644035740762546"
     },
     "user_tz": -180
    },
    "id": "F0fNTgXI1QFh"
   },
   "outputs": [],
   "source": [
    "test_data = Pool(data = X_test)\n",
    "cb_pred = model.predict(test_data)\n",
    "lgbm3000_pred = Ranker.predict(X_test)\n",
    "lgbm100_pred = Ranker1.predict(X_test)\n",
    "sum_pred = cb_pred + lgbm3000_pred + lgbm100_pred\n",
    "\n",
    "test[\"predicted_mark\"] = sum_pred\n",
    "result = test.sort_values(by=['QueryId', \"predicted_mark\"], ascending = [True, False])\n",
    "result[['QueryId', 'DocumentId']].to_csv('final_subm', sep=',', index=None)"
   ]
  }
 ],
 "metadata": {
  "colab": {
   "collapsed_sections": [
    "D90WBlP_aQ0_",
    "ytfrfnsW1-hq",
    "iawNTqSo1y_-",
    "82f49rEF16mt",
    "R7RH2C4XMCep",
    "YrsMlDfN3jRy",
    "2WH-gq-Z7dTO",
    "tVg8Z_-TyHy4",
    "Mf27jJmqh7v0",
    "_07sKSQpJ3TA",
    "mpymq5snbdP2",
    "Vp_Qazq18dNz",
    "wazdSRmQ4-C3",
    "BIb487mS46yL",
    "PPMMl3x75AWa",
    "8X7O5ZIghwaY",
    "SYzZCYrh2BZk",
    "wXkiMFKDm5i1",
    "juAnnuwroj36",
    "I6XmgVKcm8OZ",
    "eofsmV9cq3tY",
    "Sb3XMkCKwsuM",
    "kauorZqGOTXx"
   ],
   "name": "Left 13FebTexts30JanStolenFeaturesSum&catboost&xgboost_not_translated_MERGED70.ipynb",
   "provenance": []
  },
  "kernelspec": {
   "display_name": "Python 3",
   "language": "python",
   "name": "python3"
  },
  "language_info": {
   "codemirror_mode": {
    "name": "ipython",
    "version": 3
   },
   "file_extension": ".py",
   "mimetype": "text/x-python",
   "name": "python",
   "nbconvert_exporter": "python",
   "pygments_lexer": "ipython3",
   "version": "3.7.7"
  }
 },
 "nbformat": 4,
 "nbformat_minor": 1
}
