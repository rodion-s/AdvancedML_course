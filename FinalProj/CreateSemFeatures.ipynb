{
 "cells": [
  {
   "cell_type": "code",
   "execution_count": null,
   "metadata": {},
   "outputs": [],
   "source": [
    "!pip install tensorflow_text\n",
    "import tensorflow as tf\n",
    "import tensorflow_text\n",
    "import tensorflow_hub as hub\n",
    "embed = hub.KerasLayer(\"https://tfhub.dev/google/universal-sentence-encoder-multilingual-qa/3\")"
   ]
  },
  {
   "cell_type": "code",
   "execution_count": null,
   "metadata": {},
   "outputs": [],
   "source": [
    "import pandas as pd\n",
    "titles_path = './utils/titles_corrected'\n",
    "titles_df = pd.read_csv(titles_path)\n",
    "titles_df.head()"
   ]
  },
  {
   "cell_type": "code",
   "execution_count": null,
   "metadata": {},
   "outputs": [],
   "source": [
    "queries_path = './utils/queries_corrected'\n",
    "queries_df = pd.read_csv(queries_path)\n",
    "queries_df.head()"
   ]
  },
  {
   "cell_type": "code",
   "execution_count": null,
   "metadata": {},
   "outputs": [],
   "source": [
    "title_embeddings = []\n",
    "for title in notebook.tqdm(titles_df['Title'].values):\n",
    "    title_embeddings.append(embed(str(title)))\n",
    "query_embeddings = []\n",
    "for query in notebook.tqdm(qur_df['Query'].values):\n",
    "    query_embeddings.append(embed(str(query)))"
   ]
  },
  {
   "cell_type": "code",
   "execution_count": null,
   "metadata": {},
   "outputs": [],
   "source": [
    "import pandas as pd\n",
    "sample_subm = pd.read_csv('./data/ranking-long-tail-queries-fall-2020/sample.csv/sample.csv')\n",
    "tuples = [tuple(sample_subm.values[i]) for i in range(len(sample_subm))]\n",
    "\n",
    "groups_mapping = dict()\n",
    "for elem in tuples:\n",
    "    if elem[0] not in groups_mapping:\n",
    "        groups_mapping[elem[0]] = [elem[1]]\n",
    "    else:\n",
    "        groups_mapping[elem[0]].append(elem[1])"
   ]
  },
  {
   "cell_type": "code",
   "execution_count": null,
   "metadata": {},
   "outputs": [],
   "source": [
    "marks_path = './data/ranking-long-tail-queries-fall-2020/train.marks.tsv/train.marks.tsv'\n",
    "marks_df = pd.read_csv(marks_path, '\\t', header=None)\n",
    "\n",
    "tuples = [tuple(marks_df.values[i]) for i in range(len(marks_df))]\n",
    "\n",
    "train_groups_mapping = dict()\n",
    "for elem in tuples:\n",
    "    if elem[0] not in train_groups_mapping:\n",
    "        train_groups_mapping[elem[0]] = [elem[1]]\n",
    "    else:\n",
    "        train_groups_mapping[elem[0]].append(elem[1])"
   ]
  },
  {
   "cell_type": "code",
   "execution_count": null,
   "metadata": {},
   "outputs": [],
   "source": [
    "QueryId = []\n",
    "DocsId = []\n",
    "cosines = []\n",
    "for q_id, query in notebook.tqdm(train_groups_mapping):\n",
    "    for doc_id in tr_gr[q_id]:\n",
    "        query_emb = query_embeddings[q_id].reshape(1, 1024)\n",
    "        title_emb = titles_embds[doc_id].reshape(1, 1024)\n",
    "        cos = cosine(query_emb, title_emb)[0][0]\n",
    "        cosines.append(cos)\n",
    "        QueryId.append(q_id)\n",
    "        DocsId.append(doc_id)\n",
    "\n",
    "for q_id, query in notebook.tqdm(groups_mapping):\n",
    "    for doc_id in groups_mapping[q_id]:\n",
    "        query_emb = query_embeddings[q_id].reshape(1, 1024)\n",
    "        title_emb = titles_embds[doc_id].reshape(1, 1024)\n",
    "        cos = cosine(query_emb, title_emb)[0][0]\n",
    "        cosines.append(cos)\n",
    "        QueryId.append(q_id)\n",
    "        DocsId.append(doc_id)"
   ]
  },
  {
   "cell_type": "code",
   "execution_count": null,
   "metadata": {},
   "outputs": [],
   "source": [
    "df = pd.DataFrame({\n",
    "    'QueryId' : QueryId,\n",
    "    'DocumentId' : DocsId,\n",
    "    'UseQA': cosines\n",
    "})\n",
    "df.to_csv('sem', index=None)"
   ]
  }
 ],
 "metadata": {
  "kernelspec": {
   "display_name": "Python 3",
   "language": "python",
   "name": "python3"
  },
  "language_info": {
   "codemirror_mode": {
    "name": "ipython",
    "version": 3
   },
   "file_extension": ".py",
   "mimetype": "text/x-python",
   "name": "python",
   "nbconvert_exporter": "python",
   "pygments_lexer": "ipython3",
   "version": "3.7.7"
  }
 },
 "nbformat": 4,
 "nbformat_minor": 4
}
