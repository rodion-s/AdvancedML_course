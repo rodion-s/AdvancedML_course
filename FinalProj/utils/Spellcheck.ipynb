{
 "cells": [
  {
   "cell_type": "code",
   "execution_count": null,
   "metadata": {},
   "outputs": [],
   "source": [
    "path_to_queries = './../data/ranking-long-tail-queries-fall-2020/queries.tsv'"
   ]
  },
  {
   "cell_type": "code",
   "execution_count": null,
   "metadata": {},
   "outputs": [],
   "source": [
    "import numpy as np\n",
    "import pandas as pd\n",
    "from bs4 import BeautifulSoup\n",
    "import re\n",
    "import os\n",
    "import functools\n",
    "import operator\n",
    "from sklearn.feature_extraction.text import CountVectorizer\n",
    "import requests\n",
    "from tqdm import notebook\n",
    "import pymorphy2\n",
    "from nltk.corpus import stopwords\n",
    "from nltk.corpus import wordnet as wn"
   ]
  },
  {
   "cell_type": "code",
   "execution_count": null,
   "metadata": {},
   "outputs": [],
   "source": [
    "queries_df = pd.read_csv(path_to_queries, sep='\\t', header=None)\n",
    "queries_df.head()"
   ]
  },
  {
   "cell_type": "code",
   "execution_count": null,
   "metadata": {},
   "outputs": [],
   "source": [
    "queries = queries_df.values[:, 1]\n",
    "\n",
    "json_path = 'https://speller.yandex.net/services/spellservice.json/checkText?text='\n",
    "\n",
    "corrected_queries = []\n",
    "for query in notebook.tqdm(queries):\n",
    "    r = requests.get(json_path + query)\n",
    "    if r.status_code != 200:\n",
    "        print('ERROR')\n",
    "    changes = {change['word']: change['s'][0] for change in r.json() if len(change['s']) > 0}\n",
    "\n",
    "    corr_query = query\n",
    "    for word, suggestion in changes.items():\n",
    "        corr_query = corr_query.replace(word, suggestion)\n",
    "    \n",
    "    corrected_queries.append(corr_query)"
   ]
  },
  {
   "cell_type": "code",
   "execution_count": null,
   "metadata": {},
   "outputs": [],
   "source": [
    "my_stopwords = list(set(stopwords.words('russian')) - set(['как', 'когда', 'почему', 'зачем', 'чтобы', 'что']))\n",
    "my_stopwords[:5]"
   ]
  },
  {
   "cell_type": "code",
   "execution_count": null,
   "metadata": {},
   "outputs": [],
   "source": [
    "morph = pymorphy2.MorphAnalyzer()"
   ]
  },
  {
   "cell_type": "code",
   "execution_count": null,
   "metadata": {},
   "outputs": [],
   "source": [
    "PYMORPHY_CACHE = {}\n",
    "def lemmatizer(words):\n",
    "    global PYMORPHY_CACHE\n",
    "    for word in words:\n",
    "        word_hash = hash(word)\n",
    "        if word_hash not in PYMORPHY_CACHE:\n",
    "            PYMORPHY_CACHE[word_hash] = morph.parse(word)[0].normal_form\n",
    "        yield PYMORPHY_CACHE[word_hash]"
   ]
  },
  {
   "cell_type": "code",
   "execution_count": null,
   "metadata": {},
   "outputs": [],
   "source": [
    "def clean_query(query):\n",
    "    query_tokens = list(lemmatizer(query.split()))\n",
    "    query_tokens = [q_tok for q_tok in query_tokens if q_tok not in my_stopwords\n",
    "                    and q_tok not in stopwords.words('english')]\n",
    "    query = ' '.join(query_tokens)\n",
    "    return query"
   ]
  },
  {
   "cell_type": "code",
   "execution_count": null,
   "metadata": {},
   "outputs": [],
   "source": [
    "final_queries = []\n",
    "for query in notebook.tqdm(corrected_queries):\n",
    "    final_queries.append(clean_query(query))"
   ]
  },
  {
   "cell_type": "code",
   "execution_count": null,
   "metadata": {},
   "outputs": [],
   "source": [
    "queries_df[1] = final_queries"
   ]
  },
  {
   "cell_type": "code",
   "execution_count": null,
   "metadata": {},
   "outputs": [],
   "source": [
    "final_queries_df = queries_df.rename(columns={0: 'QueryId', 1: 'Query'})\n",
    "final_queries_df.head()"
   ]
  },
  {
   "cell_type": "code",
   "execution_count": null,
   "metadata": {},
   "outputs": [],
   "source": [
    "final_queries_df.to_csv('queries_corrected', index=None)"
   ]
  }
 ],
 "metadata": {
  "kernelspec": {
   "display_name": "Python 3",
   "language": "python",
   "name": "python3"
  },
  "language_info": {
   "codemirror_mode": {
    "name": "ipython",
    "version": 3
   },
   "file_extension": ".py",
   "mimetype": "text/x-python",
   "name": "python",
   "nbconvert_exporter": "python",
   "pygments_lexer": "ipython3",
   "version": "3.7.7"
  }
 },
 "nbformat": 4,
 "nbformat_minor": 4
}
