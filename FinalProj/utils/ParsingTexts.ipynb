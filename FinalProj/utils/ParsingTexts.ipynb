{
 "cells": [
  {
   "cell_type": "code",
   "execution_count": null,
   "metadata": {},
   "outputs": [],
   "source": [
    "path_to_docs = './../data/docs_latest.tsv'"
   ]
  },
  {
   "cell_type": "code",
   "execution_count": null,
   "metadata": {},
   "outputs": [],
   "source": [
    "import pandas as pd\n",
    "import numpy as np\n",
    "import re\n",
    "import os"
   ]
  },
  {
   "cell_type": "code",
   "execution_count": null,
   "metadata": {},
   "outputs": [],
   "source": [
    "!pip install pymorphy2\n",
    "!pip install nltk"
   ]
  },
  {
   "cell_type": "code",
   "execution_count": null,
   "metadata": {},
   "outputs": [],
   "source": [
    "import pymorphy2\n",
    "import nltk\n",
    "from nltk.corpus import stopwords\n",
    "from nltk.corpus import wordnet as wn\n",
    "morph = pymorphy2.MorphAnalyzer()\n",
    "\n",
    "from tqdm import notebook\n",
    "\n",
    "nltk.download(\"stopwords\")\n",
    "# некоторые стоп слова за таковые не считаем, на всякий случай\n",
    "# иначе что отвечать на запрос \"ЧТО ГДЕ КОГДА\"?\n",
    "my_stopwords = list(set(stopwords.words('russian')) - set(['как', 'когда', 'почему', 'зачем', 'чтобы', 'что']))\n",
    "my_stopwords[:5]"
   ]
  },
  {
   "cell_type": "code",
   "execution_count": null,
   "metadata": {},
   "outputs": [],
   "source": [
    "# Кеширование очень сильно ускоряет парсинг (примерно в два раза)\n",
    "PYMORPHY_CACHE = {}\n",
    "def lemmatizer(words):\n",
    "    global PYMORPHY_CACHE\n",
    "    for word in words:\n",
    "        word_hash = hash(word)\n",
    "        if word_hash not in PYMORPHY_CACHE:\n",
    "            PYMORPHY_CACHE[word_hash] = morph.parse(word)[0].normal_form\n",
    "        yield PYMORPHY_CACHE[word_hash]"
   ]
  },
  {
   "cell_type": "code",
   "execution_count": null,
   "metadata": {},
   "outputs": [],
   "source": [
    "def process_doc(i, doc_text):\n",
    "    docwords = str(doc_text[0]).lower().split()\n",
    "    docwords = [word for word in docwords if word not in my_stopwords \n",
    "                   and word not in stopwords.words('english')]\n",
    "    doc_proccessed = ' '.join(lemmatizer(docwords))\n",
    "\n",
    "    path_to_save = './parsed/{0}'.format(i)\n",
    "    with open(path_to_save, 'w+') as f:\n",
    "        f.write(doc_proccessed)\n",
    "    return doc_lemmatized"
   ]
  },
  {
   "cell_type": "code",
   "execution_count": null,
   "metadata": {},
   "outputs": [],
   "source": [
    "!mkdir parsed"
   ]
  },
  {
   "cell_type": "code",
   "execution_count": null,
   "metadata": {},
   "outputs": [],
   "source": [
    "from tqdm import notebook\n",
    "chunksize = 100\n",
    "docs_latest_path = path_to_docs\n",
    "doc_ids = []\n",
    "titles = []\n",
    "for i, chunk in enumerate(notebook.tqdm(pd.read_csv(docs_latest_path, chunksize=chunksize, header=None, sep='\\t'))):\n",
    "    values = chunk.values\n",
    "    doc_id, title = values[:, 0], values[:, 1]\n",
    "    #doc_id, title = chunk[0], chunk[1]\n",
    "    doc_ids.extend(doc_id)\n",
    "    titles.extend(title)\n",
    "    #if i == 2:\n",
    "    #    break\n",
    "    process_doc(i, test_chunk[2].values)"
   ]
  },
  {
   "cell_type": "code",
   "execution_count": null,
   "metadata": {},
   "outputs": [],
   "source": [
    "pd.DataFrame({'DocumentId': doc_ids, 'Title': titles}).to_csv('docs_latest_titles.tsv')"
   ]
  }
 ],
 "metadata": {
  "kernelspec": {
   "display_name": "Python 3",
   "language": "python",
   "name": "python3"
  },
  "language_info": {
   "codemirror_mode": {
    "name": "ipython",
    "version": 3
   },
   "file_extension": ".py",
   "mimetype": "text/x-python",
   "name": "python",
   "nbconvert_exporter": "python",
   "pygments_lexer": "ipython3",
   "version": "3.7.7"
  }
 },
 "nbformat": 4,
 "nbformat_minor": 4
}
