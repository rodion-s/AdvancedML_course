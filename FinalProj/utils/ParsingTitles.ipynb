{
 "cells": [
  {
   "cell_type": "code",
   "execution_count": 1,
   "metadata": {},
   "outputs": [],
   "source": [
    "path_to_titles = './../data/docs_latest_titles.tsv'"
   ]
  },
  {
   "cell_type": "code",
   "execution_count": 2,
   "metadata": {},
   "outputs": [],
   "source": [
    "import pandas as pd\n",
    "import numpy as np\n",
    "import re\n",
    "import os"
   ]
  },
  {
   "cell_type": "code",
   "execution_count": 3,
   "metadata": {},
   "outputs": [
    {
     "name": "stdout",
     "output_type": "stream",
     "text": [
      "Requirement already satisfied: pymorphy2 in /home/rodion/miniconda3/envs/sphere-py37/lib/python3.7/site-packages (0.9.1)\n",
      "Requirement already satisfied: dawg-python>=0.7.1 in /home/rodion/miniconda3/envs/sphere-py37/lib/python3.7/site-packages (from pymorphy2) (0.7.2)\n",
      "Requirement already satisfied: docopt>=0.6 in /home/rodion/miniconda3/envs/sphere-py37/lib/python3.7/site-packages (from pymorphy2) (0.6.2)\n",
      "Requirement already satisfied: pymorphy2-dicts-ru<3.0,>=2.4 in /home/rodion/miniconda3/envs/sphere-py37/lib/python3.7/site-packages (from pymorphy2) (2.4.417127.4579844)\n",
      "Requirement already satisfied: nltk in /home/rodion/miniconda3/envs/sphere-py37/lib/python3.7/site-packages (3.5)\n",
      "Requirement already satisfied: click in /home/rodion/miniconda3/envs/sphere-py37/lib/python3.7/site-packages (from nltk) (7.1.2)\n",
      "Requirement already satisfied: tqdm in /home/rodion/miniconda3/envs/sphere-py37/lib/python3.7/site-packages (from nltk) (4.48.2)\n",
      "Requirement already satisfied: regex in /home/rodion/miniconda3/envs/sphere-py37/lib/python3.7/site-packages (from nltk) (2020.11.13)\n",
      "Requirement already satisfied: joblib in /home/rodion/miniconda3/envs/sphere-py37/lib/python3.7/site-packages (from nltk) (0.16.0)\n"
     ]
    }
   ],
   "source": [
    "!pip install pymorphy2\n",
    "!pip install nltk"
   ]
  },
  {
   "cell_type": "code",
   "execution_count": 4,
   "metadata": {},
   "outputs": [
    {
     "name": "stderr",
     "output_type": "stream",
     "text": [
      "[nltk_data] Downloading package stopwords to /home/rodion/nltk_data...\n",
      "[nltk_data]   Package stopwords is already up-to-date!\n"
     ]
    },
    {
     "data": {
      "text/plain": [
       "['здесь', 'над', 'вас', 'мне', 'при']"
      ]
     },
     "execution_count": 4,
     "metadata": {},
     "output_type": "execute_result"
    }
   ],
   "source": [
    "import pymorphy2\n",
    "import nltk\n",
    "from nltk.corpus import stopwords\n",
    "from nltk.corpus import wordnet as wn\n",
    "morph = pymorphy2.MorphAnalyzer()\n",
    "\n",
    "from tqdm import notebook\n",
    "\n",
    "nltk.download(\"stopwords\")\n",
    "# некоторые стоп слова за таковые не считаем, на всякий случай\n",
    "# иначе что отвечать на запрос \"ЧТО ГДЕ КОГДА\"?\n",
    "my_stopwords = list(set(stopwords.words('russian')) - set(['как', 'когда', 'почему', 'зачем', 'чтобы', 'что']))\n",
    "my_stopwords[:5]"
   ]
  },
  {
   "cell_type": "code",
   "execution_count": 5,
   "metadata": {},
   "outputs": [],
   "source": [
    "# Кеширование очень сильно ускоряет парсинг (примерно в два раза)\n",
    "PYMORPHY_CACHE = {}\n",
    "def lemmatizer(words):\n",
    "    global PYMORPHY_CACHE\n",
    "    for word in words:\n",
    "        word_hash = hash(word)\n",
    "        if word_hash not in PYMORPHY_CACHE:\n",
    "            PYMORPHY_CACHE[word_hash] = morph.parse(word)[0].normal_form\n",
    "        yield PYMORPHY_CACHE[word_hash]"
   ]
  },
  {
   "cell_type": "code",
   "execution_count": 19,
   "metadata": {},
   "outputs": [
    {
     "data": {
      "text/html": [
       "<div>\n",
       "<style scoped>\n",
       "    .dataframe tbody tr th:only-of-type {\n",
       "        vertical-align: middle;\n",
       "    }\n",
       "\n",
       "    .dataframe tbody tr th {\n",
       "        vertical-align: top;\n",
       "    }\n",
       "\n",
       "    .dataframe thead th {\n",
       "        text-align: right;\n",
       "    }\n",
       "</style>\n",
       "<table border=\"1\" class=\"dataframe\">\n",
       "  <thead>\n",
       "    <tr style=\"text-align: right;\">\n",
       "      <th></th>\n",
       "      <th>DocumentId</th>\n",
       "      <th>Title</th>\n",
       "    </tr>\n",
       "  </thead>\n",
       "  <tbody>\n",
       "    <tr>\n",
       "      <th>0</th>\n",
       "      <td>0</td>\n",
       "      <td>SMARTJS ACADEMY АРХИТЕКТУРА JS ПРИЛОЖЕНИЙ ХАРЬКОВ</td>\n",
       "    </tr>\n",
       "    <tr>\n",
       "      <th>1</th>\n",
       "      <td>1</td>\n",
       "      <td>ESSAY ON IMPORTANCE OF CLEANLINESS AT HOME SCH...</td>\n",
       "    </tr>\n",
       "    <tr>\n",
       "      <th>2</th>\n",
       "      <td>2</td>\n",
       "      <td>ДОСКА НА ДВУХ КОЛЕСАХ КАК НАЗЫВАЕТСЯ</td>\n",
       "    </tr>\n",
       "    <tr>\n",
       "      <th>3</th>\n",
       "      <td>3</td>\n",
       "      <td>MY CAREER VIEW TOPIC EBONY TEEN UPSKIRT</td>\n",
       "    </tr>\n",
       "    <tr>\n",
       "      <th>4</th>\n",
       "      <td>4</td>\n",
       "      <td>EMBASSY OF THE REPUBLIC OF KAZAKHSTAN TO THE U...</td>\n",
       "    </tr>\n",
       "  </tbody>\n",
       "</table>\n",
       "</div>"
      ],
      "text/plain": [
       "   DocumentId                                              Title\n",
       "0           0  SMARTJS ACADEMY АРХИТЕКТУРА JS ПРИЛОЖЕНИЙ ХАРЬКОВ\n",
       "1           1  ESSAY ON IMPORTANCE OF CLEANLINESS AT HOME SCH...\n",
       "2           2               ДОСКА НА ДВУХ КОЛЕСАХ КАК НАЗЫВАЕТСЯ\n",
       "3           3            MY CAREER VIEW TOPIC EBONY TEEN UPSKIRT\n",
       "4           4  EMBASSY OF THE REPUBLIC OF KAZAKHSTAN TO THE U..."
      ]
     },
     "execution_count": 19,
     "metadata": {},
     "output_type": "execute_result"
    }
   ],
   "source": [
    "titles_df = pd.read_csv(path_to_titles, header=None, sep='\\t')\n",
    "titles_df.head()"
   ]
  },
  {
   "cell_type": "code",
   "execution_count": 24,
   "metadata": {},
   "outputs": [
    {
     "name": "stderr",
     "output_type": "stream",
     "text": [
      "100%|██████████| 582167/582167 [09:37<00:00, 1008.03it/s]\n"
     ]
    },
    {
     "data": {
      "text/html": [
       "<div>\n",
       "<style scoped>\n",
       "    .dataframe tbody tr th:only-of-type {\n",
       "        vertical-align: middle;\n",
       "    }\n",
       "\n",
       "    .dataframe tbody tr th {\n",
       "        vertical-align: top;\n",
       "    }\n",
       "\n",
       "    .dataframe thead th {\n",
       "        text-align: right;\n",
       "    }\n",
       "</style>\n",
       "<table border=\"1\" class=\"dataframe\">\n",
       "  <thead>\n",
       "    <tr style=\"text-align: right;\">\n",
       "      <th></th>\n",
       "      <th>DocumentId</th>\n",
       "      <th>Title</th>\n",
       "    </tr>\n",
       "  </thead>\n",
       "  <tbody>\n",
       "    <tr>\n",
       "      <th>0</th>\n",
       "      <td>0</td>\n",
       "      <td>smartjs academy архитектура js приложение харьков</td>\n",
       "    </tr>\n",
       "    <tr>\n",
       "      <th>1</th>\n",
       "      <td>1</td>\n",
       "      <td>essay importance cleanliness home school neigh...</td>\n",
       "    </tr>\n",
       "    <tr>\n",
       "      <th>2</th>\n",
       "      <td>2</td>\n",
       "      <td>доска два колесо как называться</td>\n",
       "    </tr>\n",
       "    <tr>\n",
       "      <th>3</th>\n",
       "      <td>3</td>\n",
       "      <td>career view topic ebony teen upskirt</td>\n",
       "    </tr>\n",
       "    <tr>\n",
       "      <th>4</th>\n",
       "      <td>4</td>\n",
       "      <td>embassy republic kazakhstan united arab emirat...</td>\n",
       "    </tr>\n",
       "    <tr>\n",
       "      <th>...</th>\n",
       "      <td>...</td>\n",
       "      <td>...</td>\n",
       "    </tr>\n",
       "    <tr>\n",
       "      <th>582162</th>\n",
       "      <td>582162</td>\n",
       "      <td>урок 2 как получать заказ рейтинг яндекс такси...</td>\n",
       "    </tr>\n",
       "    <tr>\n",
       "      <th>582163</th>\n",
       "      <td>582163</td>\n",
       "      <td>nan</td>\n",
       "    </tr>\n",
       "    <tr>\n",
       "      <th>582164</th>\n",
       "      <td>582164</td>\n",
       "      <td>0c5v5ey insurance archive state south african ...</td>\n",
       "    </tr>\n",
       "    <tr>\n",
       "      <th>582165</th>\n",
       "      <td>582165</td>\n",
       "      <td>488204_120826113120_d5evo</td>\n",
       "    </tr>\n",
       "    <tr>\n",
       "      <th>582166</th>\n",
       "      <td>582166</td>\n",
       "      <td>sale mobile sim cards econet shops paid bribe</td>\n",
       "    </tr>\n",
       "  </tbody>\n",
       "</table>\n",
       "<p>582167 rows × 2 columns</p>\n",
       "</div>"
      ],
      "text/plain": [
       "        DocumentId                                              Title\n",
       "0                0  smartjs academy архитектура js приложение харьков\n",
       "1                1  essay importance cleanliness home school neigh...\n",
       "2                2                    доска два колесо как называться\n",
       "3                3               career view topic ebony teen upskirt\n",
       "4                4  embassy republic kazakhstan united arab emirat...\n",
       "...            ...                                                ...\n",
       "582162      582162  урок 2 как получать заказ рейтинг яндекс такси...\n",
       "582163      582163                                                nan\n",
       "582164      582164  0c5v5ey insurance archive state south african ...\n",
       "582165      582165                          488204_120826113120_d5evo\n",
       "582166      582166      sale mobile sim cards econet shops paid bribe\n",
       "\n",
       "[582167 rows x 2 columns]"
      ]
     },
     "execution_count": 24,
     "metadata": {},
     "output_type": "execute_result"
    }
   ],
   "source": [
    "import tqdm\n",
    "tqdm.tqdm.pandas()\n",
    "def process_title(title):\n",
    "    titlewords = str(title).lower().split()\n",
    "    titlewords = [word for word in titlewords if word not in my_stopwords \n",
    "                   and word not in stopwords.words('english')]\n",
    "    title = ' '.join(lemmatizer(titlewords))\n",
    "\n",
    "    return title\n",
    "titles_df['Title'] = titles_df['Title'].progress_apply(process_title)\n",
    "titles_df"
   ]
  },
  {
   "cell_type": "code",
   "execution_count": 25,
   "metadata": {},
   "outputs": [],
   "source": [
    "titles_df.to_csv('titles_corrected', index=None)"
   ]
  }
 ],
 "metadata": {
  "kernelspec": {
   "display_name": "Python 3",
   "language": "python",
   "name": "python3"
  },
  "language_info": {
   "codemirror_mode": {
    "name": "ipython",
    "version": 3
   },
   "file_extension": ".py",
   "mimetype": "text/x-python",
   "name": "python",
   "nbconvert_exporter": "python",
   "pygments_lexer": "ipython3",
   "version": "3.7.7"
  }
 },
 "nbformat": 4,
 "nbformat_minor": 4
}
